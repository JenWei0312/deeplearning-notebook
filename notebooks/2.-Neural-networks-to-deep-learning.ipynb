{
 "cells": [
  {
   "cell_type": "markdown",
   "metadata": {},
   "source": [
    "![test](../notebooks/images/header3.png)"
   ]
  },
  {
   "cell_type": "markdown",
   "metadata": {},
   "source": [
    "# Workshop goals\n",
    "* Feedforward networks and backpropagation\n",
    "* Activation functions\n",
    "* Deep learning\n",
    "* \n",
    "\n",
    "# How to get and open this file:\n",
    "1. `git pull`\n",
    "1. `docker-compose build`\n",
    "1. `docker-compose up`\n",
    "1. Open `localhost:8888` in a browser and paste in the token.\n",
    "\n",
    "# To stop docker:\n",
    "1. `control-c` to stop Jupyter.\n",
    "1. `docker-compose down`"
   ]
  },
  {
   "cell_type": "code",
   "execution_count": null,
   "metadata": {},
   "outputs": [],
   "source": []
  }
 ],
 "metadata": {
  "kernelspec": {
   "display_name": "Python 3",
   "language": "python",
   "name": "python3"
  },
  "language_info": {
   "codemirror_mode": {
    "name": "ipython",
    "version": 3
   },
   "file_extension": ".py",
   "mimetype": "text/x-python",
   "name": "python",
   "nbconvert_exporter": "python",
   "pygments_lexer": "ipython3",
   "version": "3.6.6"
  }
 },
 "nbformat": 4,
 "nbformat_minor": 2
}
