{
 "cells": [
  {
   "cell_type": "markdown",
   "metadata": {},
   "source": [
    "![test](../notebooks/images/header2.png)"
   ]
  },
  {
   "cell_type": "markdown",
   "metadata": {},
   "source": [
    "# Workshop goals\n",
    "* Tools\n",
    "* From logistic regression to neural networks\n",
    "* API examples\n",
    "* Train our first neural network model"
   ]
  },
  {
   "cell_type": "markdown",
   "metadata": {},
   "source": [
    "# How to get and open this file:\n",
    "1. `git pull`\n",
    "1. `docker-compose build`\n",
    "1. `docker-compose up`\n",
    "1. Open `localhost:8888` in a browser and paste in the token.\n",
    "\n",
    "# To stop docker:\n",
    "1. `control-c` to stop Jupyter.\n",
    "1. `docker-compose down`"
   ]
  },
  {
   "cell_type": "markdown",
   "metadata": {},
   "source": [
    "# Two main goals:\n",
    "1. Learn the basics of neural networks and deep learning. Modern [artificial NNs](https://en.wikipedia.org/wiki/Artificial_neural_network) have been around since 1975. We will learn NN vocabulary, what's involved in training a network, common architectures, and types of problems they can be applied to.\n",
    "\n",
    "2. Learn about [Keras](https://keras.io/) and [Tensorflow](https://www.tensorflow.org/) and how to use them.\n",
    "\n",
    "We won’t become experts on either subject but will enough to solve many problems and to have the background to learn more advanced techniques."
   ]
  },
  {
   "cell_type": "markdown",
   "metadata": {},
   "source": [
    "# Introduction to our software stack\n"
   ]
  },
  {
   "cell_type": "markdown",
   "metadata": {},
   "source": [
    "## [Jupyter Notebook](https://www.jupyter.org)\n",
    "\n",
    "If you can see this you are using it! Jupyter is a web-application for coding, visualations, text, etc. Each code or text chunk lives in a cell. You can run or edit each cell individually in any order. Here are some tips:\n",
    "\n",
    "* **Alt-Enter** to run a cell.\n",
    "* You can change a cell to markdown mode with the button above.\n",
    "* A variable on the last line of cell is automatically printed to screen. A semi-colon will suppress output.\n",
    "* There are lots of hot-keys.\n",
    "\n",
    "One caveat with Jupyter notebooks is that it is very easy to lose track of all your variables, or to have the output of a cell not match the code in the cell. It's a good idea to restart the kernal and run all cell before producing a \"final\" output."
   ]
  },
  {
   "cell_type": "code",
   "execution_count": 1,
   "metadata": {},
   "outputs": [
    {
     "data": {
      "text/plain": [
       "2"
      ]
     },
     "execution_count": 1,
     "metadata": {},
     "output_type": "execute_result"
    }
   ],
   "source": [
    "1+1"
   ]
  },
  {
   "cell_type": "code",
   "execution_count": 2,
   "metadata": {},
   "outputs": [
    {
     "data": {
      "text/plain": [
       "3"
      ]
     },
     "execution_count": 2,
     "metadata": {},
     "output_type": "execute_result"
    }
   ],
   "source": [
    "1+1"
   ]
  },
  {
   "cell_type": "markdown",
   "metadata": {},
   "source": [
    "## Git\n",
    "\n",
    "I’ll be using [Git](https://git-scm.com/) and [Github](https://github.com/) to give you the class materials: pdf of these slides and example code notebooks and other documents. Git with a single committer is the simplest workflow. You’ll get my changes using a git pull command. Check out the Git cheat sheet in the project repo.\n",
    "\n",
    "<img src=\"../notebooks/images/git2.png\" alt=\"git workflow\" width=\"700\"/>"
   ]
  },
  {
   "cell_type": "markdown",
   "metadata": {},
   "source": [
    "# Docker"
   ]
  },
  {
   "cell_type": "markdown",
   "metadata": {},
   "source": [
    "Containers give us a standard environment including a minimal OS and software.\n",
    "\n",
    "A Dockerfile is like a recipe of software installation and configuration.\n",
    "\n",
    "We’re using a slightly modified version of the official [Jupyter dockerfiles](https://github.com/jupyter/docker-stacks)."
   ]
  },
  {
   "cell_type": "markdown",
   "metadata": {},
   "source": [
    "## Our Dockerfile\n",
    "```bash\n",
    "# Copyright (c) Jupyter Development Team.\n",
    "# Distributed under the terms of the Modified BSD License.\n",
    "FROM jupyter/scipy-notebook\n",
    "\n",
    "LABEL maintainer=\"Jupyter Project <jupyter@googlegroups.com>\"\n",
    "\n",
    "# Install Tensorflow\n",
    "RUN conda install --quiet --yes \\\n",
    "    'tensorflow' \\\n",
    "    'keras' && \\\n",
    "    conda clean -tipsy && \\\n",
    "    fix-permissions $CONDA_DIR && \\\n",
    "    fix-permissions /home/$NB_USER\n",
    "\n",
    "COPY notebooks/ /home/jovyan/notebooks/\n",
    "```"
   ]
  },
  {
   "cell_type": "markdown",
   "metadata": {},
   "source": [
    "### Docker compose\n",
    "We are using [Docker compose](https://docs.docker.com/compose/overview/) and a YAML file called `docker-compose.yaml` to configure and control our container."
   ]
  },
  {
   "cell_type": "markdown",
   "metadata": {},
   "source": [
    "# Keras and Tensorflow"
   ]
  },
  {
   "cell_type": "markdown",
   "metadata": {},
   "source": [
    "[Tensorflow](https://www.tensorflow.org/) is a numeric computation library commonly used for deep learning.\n",
    "\n",
    "[Keras](https://keras.io/) is a more user-friendly front-end api for DL framworks, including Tensorflow.\n",
    "\n",
    "<img src=\"../notebooks/images/keras_tf.png\" alt=\"drawing\" width=\"400\"/>"
   ]
  },
  {
   "cell_type": "markdown",
   "metadata": {},
   "source": [
    "# Logistic regression ..."
   ]
  },
  {
   "cell_type": "markdown",
   "metadata": {},
   "source": [
    "## As an equation\n",
    "Let's take a look at how we can solve a binary (True/False or 0/1) classification problem using logisitc regression.\n",
    "\n",
    "This is a linear model, in that we take a linear combination of our n features $x$, along with unknown weights $\\beta$ for each feature (plus a intercept term):\n",
    "\n",
    "$$\n",
    "\\Large\n",
    "\\beta_0~+~\\beta_1 \\cdot x_1~+\\dots+\\beta_n \\cdot x_n\n",
    "$$\n",
    "\n",
    "This can have any range of values - we need to \"squish\" this into the range (0,1), so we put it through the sigmoid function:\n",
    "\n",
    "$$\n",
    "\\Large\n",
    "\\frac{1}{1 + e^{-x}}\n",
    "$$\n"
   ]
  },
  {
   "cell_type": "code",
   "execution_count": 1,
   "metadata": {},
   "outputs": [
    {
     "data": {
      "image/png": "[encoded data removed]",
      "text/plain": [
       "<matplotlib.figure.Figure at 0x10ab01cf8>"
      ]
     },
     "metadata": {},
     "output_type": "display_data"
    }
   ],
   "source": [
    "import matplotlib.pyplot as plt\n",
    "import numpy as np\n",
    "%matplotlib inline\n",
    "\n",
    "def sigmoid(x):\n",
    "    return 1. / (1. + np.exp(-x))\n",
    "\n",
    "x = np.arange(-6, 6, .01)\n",
    "\n",
    "plt.figure(figsize=(10,5))\n",
    "plt.plot(x, sigmoid(x), color='red', lw=2)\n",
    "plt.ylim((0,1))\n",
    "plt.grid(True)\n",
    "plt.show()"
   ]
  },
  {
   "cell_type": "markdown",
   "metadata": {},
   "source": [
    "Which gives us this:\n",
    "\n",
    "$$\n",
    "\\Large\n",
    "y = \\frac{1}{1 + e^{-(\\beta_0~+~\\beta_1 \\cdot x_1~+\\dots+\\beta_n \\cdot x_n)}}\n",
    "$$\n",
    "\n",
    "If y is > 0.5 => classify as a 1 (or True).\n",
    "\n",
    "If y is < 0.5 => classify as a 0 (or False).\n",
    "\n"
   ]
  },
  {
   "cell_type": "markdown",
   "metadata": {},
   "source": [
    "## As a graph\n",
    "\n",
    "<img src=\"../notebooks/images/logreg2.png\" alt=\"drawing\" width=\"500\"/>"
   ]
  },
  {
   "cell_type": "markdown",
   "metadata": {},
   "source": [
    "The \"learning\" in machine learning comes the procedure of checking our predictions versus the real answers, and then adjusting the weights in a direction that decreases the error rate. For logistic regression this is pretty straightforward calculus.\n",
    "\n",
    "Training more-or-less:\n",
    "* Calculate the gradient of the error (aka cost or loss function)\n",
    "* Multiply by a learning rate\n",
    "* Subtract from the weights $\\beta$\n",
    "\n",
    "This process is done iteratively until convergence:\n",
    "\n",
    "<img src=\"images/logreg2_feedback.png\" alt=\"drawing\" width=\"500\"/>\n",
    "\n",
    "This is a single layer neural network! Also called a [Perceptron](https://en.wikipedia.org/wiki/Perceptron)!"
   ]
  },
  {
   "cell_type": "markdown",
   "metadata": {},
   "source": [
    "## Feedforward Network\n",
    "\n",
    "### Adding layers\n",
    "\n",
    "However, there's no reason we can't have one or more extra layers. These layers are called hidden layers.\n",
    "\n",
    "Note: I'm no longer going to draw the weights ($\\beta$) or the bias term - but they are still there!\n",
    "\n",
    "<img src=\"../notebooks/images/1hiddenlayer.png\" alt=\"drawing\" width=\"600\"/>"
   ]
  },
  {
   "cell_type": "markdown",
   "metadata": {},
   "source": [
    "# Plotting the output of single neuron"
   ]
  },
  {
   "cell_type": "code",
   "execution_count": 8,
   "metadata": {},
   "outputs": [
    {
     "data": {
      "text/html": [
       "\n",
       "    <div class=\"bk-root\">\n",
       "        <a href=\"http://bokeh.pydata.org\" target=\"_blank\" class=\"bk-logo bk-logo-small bk-logo-notebook\"></a>\n",
       "        <span id=\"55749a9b-bf48-4cb0-89ce-46a4449d488f\">Loading BokehJS ...</span>\n",
       "    </div>"
      ]
     },
     "metadata": {},
     "output_type": "display_data"
    },
    {
     "data": {
      "application/javascript": [
       "\n",
       "(function(global) {\n",
       "  function now() {\n",
       "    return new Date();\n",
       "  }\n",
       "\n",
       "  var force = true;\n",
       "\n",
       "  if (typeof (window._bokeh_onload_callbacks) === \"undefined\" || force === true) {\n",
       "    window._bokeh_onload_callbacks = [];\n",
       "    window._bokeh_is_loading = undefined;\n",
       "  }\n",
       "\n",
       "\n",
       "  \n",
       "  if (typeof (window._bokeh_timeout) === \"undefined\" || force === true) {\n",
       "    window._bokeh_timeout = Date.now() + 5000;\n",
       "    window._bokeh_failed_load = false;\n",
       "  }\n",
       "\n",
       "  var NB_LOAD_WARNING = {'data': {'text/html':\n",
       "     \"<div style='background-color: #fdd'>\\n\"+\n",
       "     \"<p>\\n\"+\n",
       "     \"BokehJS does not appear to have successfully loaded. If loading BokehJS from CDN, this \\n\"+\n",
       "     \"may be due to a slow or bad network connection. Possible fixes:\\n\"+\n",
       "     \"</p>\\n\"+\n",
       "     \"<ul>\\n\"+\n",
       "     \"<li>re-rerun `output_notebook()` to attempt to load from CDN again, or</li>\\n\"+\n",
       "     \"<li>use INLINE resources instead, as so:</li>\\n\"+\n",
       "     \"</ul>\\n\"+\n",
       "     \"<code>\\n\"+\n",
       "     \"from bokeh.resources import INLINE\\n\"+\n",
       "     \"output_notebook(resources=INLINE)\\n\"+\n",
       "     \"</code>\\n\"+\n",
       "     \"</div>\"}};\n",
       "\n",
       "  function display_loaded() {\n",
       "    if (window.Bokeh !== undefined) {\n",
       "      var el = document.getElementById(\"55749a9b-bf48-4cb0-89ce-46a4449d488f\");\n",
       "      el.textContent = \"BokehJS \" + Bokeh.version + \" successfully loaded.\";\n",
       "    } else if (Date.now() < window._bokeh_timeout) {\n",
       "      setTimeout(display_loaded, 100)\n",
       "    }\n",
       "  }\n",
       "\n",
       "  function run_callbacks() {\n",
       "    window._bokeh_onload_callbacks.forEach(function(callback) { callback() });\n",
       "    delete window._bokeh_onload_callbacks\n",
       "    console.info(\"Bokeh: all callbacks have finished\");\n",
       "  }\n",
       "\n",
       "  function load_libs(js_urls, callback) {\n",
       "    window._bokeh_onload_callbacks.push(callback);\n",
       "    if (window._bokeh_is_loading > 0) {\n",
       "      console.log(\"Bokeh: BokehJS is being loaded, scheduling callback at\", now());\n",
       "      return null;\n",
       "    }\n",
       "    if (js_urls == null || js_urls.length === 0) {\n",
       "      run_callbacks();\n",
       "      return null;\n",
       "    }\n",
       "    console.log(\"Bokeh: BokehJS not loaded, scheduling load and callback at\", now());\n",
       "    window._bokeh_is_loading = js_urls.length;\n",
       "    for (var i = 0; i < js_urls.length; i++) {\n",
       "      var url = js_urls[i];\n",
       "      var s = document.createElement('script');\n",
       "      s.src = url;\n",
       "      s.async = false;\n",
       "      s.onreadystatechange = s.onload = function() {\n",
       "        window._bokeh_is_loading--;\n",
       "        if (window._bokeh_is_loading === 0) {\n",
       "          console.log(\"Bokeh: all BokehJS libraries loaded\");\n",
       "          run_callbacks()\n",
       "        }\n",
       "      };\n",
       "      s.onerror = function() {\n",
       "        console.warn(\"failed to load library \" + url);\n",
       "      };\n",
       "      console.log(\"Bokeh: injecting script tag for BokehJS library: \", url);\n",
       "      document.getElementsByTagName(\"head\")[0].appendChild(s);\n",
       "    }\n",
       "  };var element = document.getElementById(\"55749a9b-bf48-4cb0-89ce-46a4449d488f\");\n",
       "  if (element == null) {\n",
       "    console.log(\"Bokeh: ERROR: autoload.js configured with elementid '55749a9b-bf48-4cb0-89ce-46a4449d488f' but no matching script tag was found. \")\n",
       "    return false;\n",
       "  }\n",
       "\n",
       "  var js_urls = [\"https://cdn.pydata.org/bokeh/release/bokeh-0.12.5.min.js\", \"https://cdn.pydata.org/bokeh/release/bokeh-widgets-0.12.5.min.js\"];\n",
       "\n",
       "  var inline_js = [\n",
       "    function(Bokeh) {\n",
       "      Bokeh.set_log_level(\"info\");\n",
       "    },\n",
       "    \n",
       "    function(Bokeh) {\n",
       "      \n",
       "    },\n",
       "    \n",
       "    function(Bokeh) {\n",
       "      \n",
       "      document.getElementById(\"55749a9b-bf48-4cb0-89ce-46a4449d488f\").textContent = \"BokehJS is loading...\";\n",
       "    },\n",
       "    function(Bokeh) {\n",
       "      console.log(\"Bokeh: injecting CSS: https://cdn.pydata.org/bokeh/release/bokeh-0.12.5.min.css\");\n",
       "      Bokeh.embed.inject_css(\"https://cdn.pydata.org/bokeh/release/bokeh-0.12.5.min.css\");\n",
       "      console.log(\"Bokeh: injecting CSS: https://cdn.pydata.org/bokeh/release/bokeh-widgets-0.12.5.min.css\");\n",
       "      Bokeh.embed.inject_css(\"https://cdn.pydata.org/bokeh/release/bokeh-widgets-0.12.5.min.css\");\n",
       "    }\n",
       "  ];\n",
       "\n",
       "  function run_inline_js() {\n",
       "    \n",
       "    if ((window.Bokeh !== undefined) || (force === true)) {\n",
       "      for (var i = 0; i < inline_js.length; i++) {\n",
       "        inline_js[i](window.Bokeh);\n",
       "      }if (force === true) {\n",
       "        display_loaded();\n",
       "      }} else if (Date.now() < window._bokeh_timeout) {\n",
       "      setTimeout(run_inline_js, 100);\n",
       "    } else if (!window._bokeh_failed_load) {\n",
       "      console.log(\"Bokeh: BokehJS failed to load within specified timeout.\");\n",
       "      window._bokeh_failed_load = true;\n",
       "    } else if (force !== true) {\n",
       "      var cell = $(document.getElementById(\"55749a9b-bf48-4cb0-89ce-46a4449d488f\")).parents('.cell').data().cell;\n",
       "      cell.output_area.append_execute_result(NB_LOAD_WARNING)\n",
       "    }\n",
       "\n",
       "  }\n",
       "\n",
       "  if (window._bokeh_is_loading === 0) {\n",
       "    console.log(\"Bokeh: BokehJS loaded, going straight to plotting\");\n",
       "    run_inline_js();\n",
       "  } else {\n",
       "    load_libs(js_urls, function() {\n",
       "      console.log(\"Bokeh: BokehJS plotting callback run at\", now());\n",
       "      run_inline_js();\n",
       "    });\n",
       "  }\n",
       "}(this));"
      ]
     },
     "metadata": {},
     "output_type": "display_data"
    },
    {
     "data": {
      "text/html": [
       "\n",
       "\n",
       "    <div class=\"bk-root\">\n",
       "        <div class=\"bk-plotdiv\" id=\"6587fc40-43ef-4295-83c8-6b7494f123fb\"></div>\n",
       "    </div>\n",
       "<script type=\"text/javascript\">\n",
       "  \n",
       "  (function(global) {\n",
       "    function now() {\n",
       "      return new Date();\n",
       "    }\n",
       "  \n",
       "    var force = false;\n",
       "  \n",
       "    if (typeof (window._bokeh_onload_callbacks) === \"undefined\" || force === true) {\n",
       "      window._bokeh_onload_callbacks = [];\n",
       "      window._bokeh_is_loading = undefined;\n",
       "    }\n",
       "  \n",
       "  \n",
       "    \n",
       "    if (typeof (window._bokeh_timeout) === \"undefined\" || force === true) {\n",
       "      window._bokeh_timeout = Date.now() + 0;\n",
       "      window._bokeh_failed_load = false;\n",
       "    }\n",
       "  \n",
       "    var NB_LOAD_WARNING = {'data': {'text/html':\n",
       "       \"<div style='background-color: #fdd'>\\n\"+\n",
       "       \"<p>\\n\"+\n",
       "       \"BokehJS does not appear to have successfully loaded. If loading BokehJS from CDN, this \\n\"+\n",
       "       \"may be due to a slow or bad network connection. Possible fixes:\\n\"+\n",
       "       \"</p>\\n\"+\n",
       "       \"<ul>\\n\"+\n",
       "       \"<li>re-rerun `output_notebook()` to attempt to load from CDN again, or</li>\\n\"+\n",
       "       \"<li>use INLINE resources instead, as so:</li>\\n\"+\n",
       "       \"</ul>\\n\"+\n",
       "       \"<code>\\n\"+\n",
       "       \"from bokeh.resources import INLINE\\n\"+\n",
       "       \"output_notebook(resources=INLINE)\\n\"+\n",
       "       \"</code>\\n\"+\n",
       "       \"</div>\"}};\n",
       "  \n",
       "    function display_loaded() {\n",
       "      if (window.Bokeh !== undefined) {\n",
       "        var el = document.getElementById(\"6587fc40-43ef-4295-83c8-6b7494f123fb\");\n",
       "        el.textContent = \"BokehJS \" + Bokeh.version + \" successfully loaded.\";\n",
       "      } else if (Date.now() < window._bokeh_timeout) {\n",
       "        setTimeout(display_loaded, 100)\n",
       "      }\n",
       "    }if ((window.Jupyter !== undefined) && Jupyter.notebook.kernel) {\n",
       "      comm_manager = Jupyter.notebook.kernel.comm_manager\n",
       "      comm_manager.register_target(\"3ae461c4-bc4b-404c-8cea-39c6855da390\", function () {});\n",
       "    }\n",
       "  \n",
       "    function run_callbacks() {\n",
       "      window._bokeh_onload_callbacks.forEach(function(callback) { callback() });\n",
       "      delete window._bokeh_onload_callbacks\n",
       "      console.info(\"Bokeh: all callbacks have finished\");\n",
       "    }\n",
       "  \n",
       "    function load_libs(js_urls, callback) {\n",
       "      window._bokeh_onload_callbacks.push(callback);\n",
       "      if (window._bokeh_is_loading > 0) {\n",
       "        console.log(\"Bokeh: BokehJS is being loaded, scheduling callback at\", now());\n",
       "        return null;\n",
       "      }\n",
       "      if (js_urls == null || js_urls.length === 0) {\n",
       "        run_callbacks();\n",
       "        return null;\n",
       "      }\n",
       "      console.log(\"Bokeh: BokehJS not loaded, scheduling load and callback at\", now());\n",
       "      window._bokeh_is_loading = js_urls.length;\n",
       "      for (var i = 0; i < js_urls.length; i++) {\n",
       "        var url = js_urls[i];\n",
       "        var s = document.createElement('script');\n",
       "        s.src = url;\n",
       "        s.async = false;\n",
       "        s.onreadystatechange = s.onload = function() {\n",
       "          window._bokeh_is_loading--;\n",
       "          if (window._bokeh_is_loading === 0) {\n",
       "            console.log(\"Bokeh: all BokehJS libraries loaded\");\n",
       "            run_callbacks()\n",
       "          }\n",
       "        };\n",
       "        s.onerror = function() {\n",
       "          console.warn(\"failed to load library \" + url);\n",
       "        };\n",
       "        console.log(\"Bokeh: injecting script tag for BokehJS library: \", url);\n",
       "        document.getElementsByTagName(\"head\")[0].appendChild(s);\n",
       "      }\n",
       "    };var element = document.getElementById(\"6587fc40-43ef-4295-83c8-6b7494f123fb\");\n",
       "    if (element == null) {\n",
       "      console.log(\"Bokeh: ERROR: autoload.js configured with elementid '6587fc40-43ef-4295-83c8-6b7494f123fb' but no matching script tag was found. \")\n",
       "      return false;\n",
       "    }\n",
       "  \n",
       "    var js_urls = [];\n",
       "  \n",
       "    var inline_js = [\n",
       "      function(Bokeh) {\n",
       "        (function() {\n",
       "          var fn = function() {\n",
       "            var docs_json = {\"cf1282e6-e7fa-410d-ac56-b4aabfc6dd09\":{\"roots\":{\"references\":[{\"attributes\":{},\"id\":\"09a68d81-5d8b-402b-8b05-6e5742cbfe1c\",\"type\":\"BasicTickFormatter\"},{\"attributes\":{\"line_color\":{\"value\":\"#8888cc\"},\"line_width\":{\"value\":3},\"x\":{\"field\":\"x\"},\"y\":{\"field\":\"y\"}},\"id\":\"45e9892a-97a7-45f4-b96a-714d30650bff\",\"type\":\"Line\"},{\"attributes\":{\"plot\":{\"id\":\"082b343c-228c-45ce-9bd9-6c67d3ed3c1d\",\"subtype\":\"Figure\",\"type\":\"Plot\"}},\"id\":\"2c39a000-26e5-4c8e-b4dc-b7ee12d3e213\",\"type\":\"ResetTool\"},{\"attributes\":{\"data_source\":{\"id\":\"2bcfeda5-7755-444d-a194-cc5b0c36f4c7\",\"type\":\"ColumnDataSource\"},\"glyph\":{\"id\":\"45e9892a-97a7-45f4-b96a-714d30650bff\",\"type\":\"Line\"},\"hover_glyph\":null,\"muted_glyph\":null,\"nonselection_glyph\":{\"id\":\"d3f8b886-c47d-40cf-9476-e44c77d90b33\",\"type\":\"Line\"},\"selection_glyph\":null},\"id\":\"4c3510f0-1a48-44b8-bdf4-00e76715de91\",\"type\":\"GlyphRenderer\"},{\"attributes\":{\"bottom_units\":\"screen\",\"fill_alpha\":{\"value\":0.5},\"fill_color\":{\"value\":\"lightgrey\"},\"left_units\":\"screen\",\"level\":\"overlay\",\"line_alpha\":{\"value\":1.0},\"line_color\":{\"value\":\"black\"},\"line_dash\":[4,4],\"line_width\":{\"value\":2},\"plot\":null,\"render_mode\":\"css\",\"right_units\":\"screen\",\"top_units\":\"screen\"},\"id\":\"0d34188d-146d-4a6c-9b54-becd6f1cf813\",\"type\":\"BoxAnnotation\"},{\"attributes\":{\"dimension\":1,\"plot\":{\"id\":\"082b343c-228c-45ce-9bd9-6c67d3ed3c1d\",\"subtype\":\"Figure\",\"type\":\"Plot\"},\"ticker\":{\"id\":\"b9175816-6722-4ebf-81ef-04547172992e\",\"type\":\"BasicTicker\"}},\"id\":\"1cba40b9-154f-4760-a09f-ea6148bb3ab9\",\"type\":\"Grid\"},{\"attributes\":{\"callback\":null,\"column_names\":[\"x\",\"y\"],\"data\":{\"x\":{\"__ndarray__\":\"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\",\"dtype\":\"float64\",\"shape\":[2000]},\"y\":{\"__ndarray__\":\"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\",\"dtype\":\"float64\",\"shape\":[2000]}}},\"id\":\"2bcfeda5-7755-444d-a194-cc5b0c36f4c7\",\"type\":\"ColumnDataSource\"},{\"attributes\":{\"plot\":{\"id\":\"082b343c-228c-45ce-9bd9-6c67d3ed3c1d\",\"subtype\":\"Figure\",\"type\":\"Plot\"}},\"id\":\"e182008a-9bbe-4ec6-912e-ed1a17792f0a\",\"type\":\"PanTool\"},{\"attributes\":{\"plot\":{\"id\":\"082b343c-228c-45ce-9bd9-6c67d3ed3c1d\",\"subtype\":\"Figure\",\"type\":\"Plot\"}},\"id\":\"794ba977-f8c0-46c8-9a80-a82ff8d12d1a\",\"type\":\"SaveTool\"},{\"attributes\":{},\"id\":\"c1bcb9f0-e3bb-456b-a9c7-6ebe2a4a930a\",\"type\":\"ToolEvents\"},{\"attributes\":{\"overlay\":{\"id\":\"0d34188d-146d-4a6c-9b54-becd6f1cf813\",\"type\":\"BoxAnnotation\"},\"plot\":{\"id\":\"082b343c-228c-45ce-9bd9-6c67d3ed3c1d\",\"subtype\":\"Figure\",\"type\":\"Plot\"}},\"id\":\"9b0ef80f-4dac-4e8d-a40e-b71730fae1c1\",\"type\":\"BoxZoomTool\"},{\"attributes\":{\"callback\":null},\"id\":\"e87d9a00-ab9e-4977-8d9d-b3332a6bc1af\",\"type\":\"DataRange1d\"},{\"attributes\":{\"active_drag\":\"auto\",\"active_scroll\":\"auto\",\"active_tap\":\"auto\",\"tools\":[{\"id\":\"e182008a-9bbe-4ec6-912e-ed1a17792f0a\",\"type\":\"PanTool\"},{\"id\":\"0652ae0d-2d8a-4795-8c2e-14e9cad6b794\",\"type\":\"WheelZoomTool\"},{\"id\":\"9b0ef80f-4dac-4e8d-a40e-b71730fae1c1\",\"type\":\"BoxZoomTool\"},{\"id\":\"794ba977-f8c0-46c8-9a80-a82ff8d12d1a\",\"type\":\"SaveTool\"},{\"id\":\"2c39a000-26e5-4c8e-b4dc-b7ee12d3e213\",\"type\":\"ResetTool\"},{\"id\":\"378afb84-32b1-4571-9223-625938c29a7a\",\"type\":\"HelpTool\"}]},\"id\":\"ea5a6388-7585-4ec0-bb15-03e0c115300b\",\"type\":\"Toolbar\"},{\"attributes\":{\"callback\":null,\"end\":1.25,\"start\":-0.25},\"id\":\"64ad0df4-8627-4a86-b90b-de29ce13d1c9\",\"type\":\"Range1d\"},{\"attributes\":{\"plot\":{\"id\":\"082b343c-228c-45ce-9bd9-6c67d3ed3c1d\",\"subtype\":\"Figure\",\"type\":\"Plot\"}},\"id\":\"0652ae0d-2d8a-4795-8c2e-14e9cad6b794\",\"type\":\"WheelZoomTool\"},{\"attributes\":{\"formatter\":{\"id\":\"09a68d81-5d8b-402b-8b05-6e5742cbfe1c\",\"type\":\"BasicTickFormatter\"},\"plot\":{\"id\":\"082b343c-228c-45ce-9bd9-6c67d3ed3c1d\",\"subtype\":\"Figure\",\"type\":\"Plot\"},\"ticker\":{\"id\":\"6280ee2a-c79d-4cd6-83a2-98d98531f256\",\"type\":\"BasicTicker\"}},\"id\":\"60f3e202-2860-4bca-915b-c6aaa6a9ed69\",\"type\":\"LinearAxis\"},{\"attributes\":{},\"id\":\"7aa5d63a-02d4-4733-b791-84bd32e354a8\",\"type\":\"BasicTickFormatter\"},{\"attributes\":{\"plot\":{\"id\":\"082b343c-228c-45ce-9bd9-6c67d3ed3c1d\",\"subtype\":\"Figure\",\"type\":\"Plot\"}},\"id\":\"378afb84-32b1-4571-9223-625938c29a7a\",\"type\":\"HelpTool\"},{\"attributes\":{\"plot\":null,\"text\":\"Single Neuron Output\"},\"id\":\"26da28e4-896d-407a-9aba-28d5089e4d72\",\"type\":\"Title\"},{\"attributes\":{\"line_alpha\":{\"value\":0.1},\"line_color\":{\"value\":\"#1f77b4\"},\"line_width\":{\"value\":3},\"x\":{\"field\":\"x\"},\"y\":{\"field\":\"y\"}},\"id\":\"d3f8b886-c47d-40cf-9476-e44c77d90b33\",\"type\":\"Line\"},{\"attributes\":{\"formatter\":{\"id\":\"7aa5d63a-02d4-4733-b791-84bd32e354a8\",\"type\":\"BasicTickFormatter\"},\"plot\":{\"id\":\"082b343c-228c-45ce-9bd9-6c67d3ed3c1d\",\"subtype\":\"Figure\",\"type\":\"Plot\"},\"ticker\":{\"id\":\"b9175816-6722-4ebf-81ef-04547172992e\",\"type\":\"BasicTicker\"}},\"id\":\"89cc3c37-0864-4e2b-958d-9a74807d6042\",\"type\":\"LinearAxis\"},{\"attributes\":{\"plot\":{\"id\":\"082b343c-228c-45ce-9bd9-6c67d3ed3c1d\",\"subtype\":\"Figure\",\"type\":\"Plot\"},\"ticker\":{\"id\":\"6280ee2a-c79d-4cd6-83a2-98d98531f256\",\"type\":\"BasicTicker\"}},\"id\":\"28954fee-577f-46d6-bb36-6398793894e2\",\"type\":\"Grid\"},{\"attributes\":{\"background_fill_color\":{\"value\":\"#efefef\"},\"below\":[{\"id\":\"60f3e202-2860-4bca-915b-c6aaa6a9ed69\",\"type\":\"LinearAxis\"}],\"left\":[{\"id\":\"89cc3c37-0864-4e2b-958d-9a74807d6042\",\"type\":\"LinearAxis\"}],\"plot_height\":300,\"plot_width\":400,\"renderers\":[{\"id\":\"60f3e202-2860-4bca-915b-c6aaa6a9ed69\",\"type\":\"LinearAxis\"},{\"id\":\"28954fee-577f-46d6-bb36-6398793894e2\",\"type\":\"Grid\"},{\"id\":\"89cc3c37-0864-4e2b-958d-9a74807d6042\",\"type\":\"LinearAxis\"},{\"id\":\"1cba40b9-154f-4760-a09f-ea6148bb3ab9\",\"type\":\"Grid\"},{\"id\":\"0d34188d-146d-4a6c-9b54-becd6f1cf813\",\"type\":\"BoxAnnotation\"},{\"id\":\"4c3510f0-1a48-44b8-bdf4-00e76715de91\",\"type\":\"GlyphRenderer\"}],\"title\":{\"id\":\"26da28e4-896d-407a-9aba-28d5089e4d72\",\"type\":\"Title\"},\"tool_events\":{\"id\":\"c1bcb9f0-e3bb-456b-a9c7-6ebe2a4a930a\",\"type\":\"ToolEvents\"},\"toolbar\":{\"id\":\"ea5a6388-7585-4ec0-bb15-03e0c115300b\",\"type\":\"Toolbar\"},\"x_range\":{\"id\":\"e87d9a00-ab9e-4977-8d9d-b3332a6bc1af\",\"type\":\"DataRange1d\"},\"y_range\":{\"id\":\"64ad0df4-8627-4a86-b90b-de29ce13d1c9\",\"type\":\"Range1d\"}},\"id\":\"082b343c-228c-45ce-9bd9-6c67d3ed3c1d\",\"subtype\":\"Figure\",\"type\":\"Plot\"},{\"attributes\":{},\"id\":\"b9175816-6722-4ebf-81ef-04547172992e\",\"type\":\"BasicTicker\"},{\"attributes\":{},\"id\":\"6280ee2a-c79d-4cd6-83a2-98d98531f256\",\"type\":\"BasicTicker\"}],\"root_ids\":[\"082b343c-228c-45ce-9bd9-6c67d3ed3c1d\"]},\"title\":\"Bokeh Application\",\"version\":\"0.12.5\"}};\n",
       "            var render_items = [{\"docid\":\"cf1282e6-e7fa-410d-ac56-b4aabfc6dd09\",\"elementid\":\"6587fc40-43ef-4295-83c8-6b7494f123fb\",\"modelid\":\"082b343c-228c-45ce-9bd9-6c67d3ed3c1d\",\"notebook_comms_target\":\"3ae461c4-bc4b-404c-8cea-39c6855da390\"}];\n",
       "            \n",
       "            Bokeh.embed.embed_items(docs_json, render_items);\n",
       "          };\n",
       "          if (document.readyState != \"loading\") fn();\n",
       "          else document.addEventListener(\"DOMContentLoaded\", fn);\n",
       "        })();\n",
       "      },\n",
       "      function(Bokeh) {\n",
       "      }\n",
       "    ];\n",
       "  \n",
       "    function run_inline_js() {\n",
       "      \n",
       "      if ((window.Bokeh !== undefined) || (force === true)) {\n",
       "        for (var i = 0; i < inline_js.length; i++) {\n",
       "          inline_js[i](window.Bokeh);\n",
       "        }if (force === true) {\n",
       "          display_loaded();\n",
       "        }} else if (Date.now() < window._bokeh_timeout) {\n",
       "        setTimeout(run_inline_js, 100);\n",
       "      } else if (!window._bokeh_failed_load) {\n",
       "        console.log(\"Bokeh: BokehJS failed to load within specified timeout.\");\n",
       "        window._bokeh_failed_load = true;\n",
       "      } else if (force !== true) {\n",
       "        var cell = $(document.getElementById(\"6587fc40-43ef-4295-83c8-6b7494f123fb\")).parents('.cell').data().cell;\n",
       "        cell.output_area.append_execute_result(NB_LOAD_WARNING)\n",
       "      }\n",
       "  \n",
       "    }\n",
       "  \n",
       "    if (window._bokeh_is_loading === 0) {\n",
       "      console.log(\"Bokeh: BokehJS loaded, going straight to plotting\");\n",
       "      run_inline_js();\n",
       "    } else {\n",
       "      load_libs(js_urls, function() {\n",
       "        console.log(\"Bokeh: BokehJS plotting callback run at\", now());\n",
       "        run_inline_js();\n",
       "      });\n",
       "    }\n",
       "  }(this));\n",
       "</script>"
      ]
     },
     "metadata": {},
     "output_type": "display_data"
    },
    {
     "data": {
      "application/vnd.jupyter.widget-view+json": {
       "model_id": "0289437e8ab846359acfd1e2255e9fae"
      }
     },
     "metadata": {},
     "output_type": "display_data"
    }
   ],
   "source": [
    "from ipywidgets import interact\n",
    "import numpy as np\n",
    "from bokeh.io import push_notebook, show, output_notebook\n",
    "from bokeh.plotting import figure\n",
    "from bokeh.layouts import column, row, layout\n",
    "from bokeh.models import Range1d\n",
    "output_notebook()\n",
    "\n",
    "x = np.linspace(-10, 10, 2000)\n",
    "y = sigmoid(1+x)\n",
    "\n",
    "p = figure(title=\"Single Neuron Output\", plot_height=300, plot_width=400, y_range=(-.25,1.25),\n",
    "           background_fill_color='#efefef')\n",
    "r = p.line(x, y, color=\"#8888cc\", line_width=3, alpha=1)\n",
    "\n",
    "def update(bias=1, weight=1):\n",
    "    r.data_source.data['y'] = sigmoid(bias+weight*x)\n",
    "    push_notebook()\n",
    "    \n",
    "show(p, notebook_handle=True)\n",
    "interact(update,bias=(-25.0,25.0), weight=(-25.0,25.0));"
   ]
  },
  {
   "cell_type": "markdown",
   "metadata": {},
   "source": [
    "What are effects of moving the sliders? Are the effects independent?"
   ]
  },
  {
   "cell_type": "markdown",
   "metadata": {},
   "source": [
    "## Neural networks can approximate any function\n",
    "\n",
    "In fact, a single hidden layer can approximate any function (with some caveats). This is the [universal approximation theorem](https://en.wikipedia.org/wiki/Universal_approximation_theorem). \n",
    "\n",
    "This is a key feature of neural networks and there's fairly simple way to see why this is true. I'll be following a version of this argument from [this cool page](http://neuralnetworksanddeeplearning.com/chap4.html).\n",
    "\n",
    "In order to make this argument, I'm going to very slightly change the parameterization of the above graph. We found that we could manipulate the weight to make the output look like a step function. And the bias could then be adjusted to change the x position of the step function. However, there's an interaction where it's actually the combination $-b/w$ that controls the x position.\n",
    "\n",
    "Let's change the equation a bit:\n",
    "\n",
    "$$\n",
    "\\Large\n",
    "\\mathrm{bias} + \\mathrm{weight}\\cdot x = \\mathrm{weight} \\cdot (-s+x)\n",
    "$$\n",
    "\n",
    "We can set the weight to a high value and then only have to adjust one parameter."
   ]
  },
  {
   "cell_type": "code",
   "execution_count": 13,
   "metadata": {},
   "outputs": [
    {
     "data": {
      "text/html": [
       "\n",
       "    <div class=\"bk-root\">\n",
       "        <a href=\"http://bokeh.pydata.org\" target=\"_blank\" class=\"bk-logo bk-logo-small bk-logo-notebook\"></a>\n",
       "        <span id=\"148cdc13-c784-4fef-bd3f-f4d70ae19463\">Loading BokehJS ...</span>\n",
       "    </div>"
      ]
     },
     "metadata": {},
     "output_type": "display_data"
    },
    {
     "data": {
      "application/javascript": [
       "\n",
       "(function(global) {\n",
       "  function now() {\n",
       "    return new Date();\n",
       "  }\n",
       "\n",
       "  var force = true;\n",
       "\n",
       "  if (typeof (window._bokeh_onload_callbacks) === \"undefined\" || force === true) {\n",
       "    window._bokeh_onload_callbacks = [];\n",
       "    window._bokeh_is_loading = undefined;\n",
       "  }\n",
       "\n",
       "\n",
       "  \n",
       "  if (typeof (window._bokeh_timeout) === \"undefined\" || force === true) {\n",
       "    window._bokeh_timeout = Date.now() + 5000;\n",
       "    window._bokeh_failed_load = false;\n",
       "  }\n",
       "\n",
       "  var NB_LOAD_WARNING = {'data': {'text/html':\n",
       "     \"<div style='background-color: #fdd'>\\n\"+\n",
       "     \"<p>\\n\"+\n",
       "     \"BokehJS does not appear to have successfully loaded. If loading BokehJS from CDN, this \\n\"+\n",
       "     \"may be due to a slow or bad network connection. Possible fixes:\\n\"+\n",
       "     \"</p>\\n\"+\n",
       "     \"<ul>\\n\"+\n",
       "     \"<li>re-rerun `output_notebook()` to attempt to load from CDN again, or</li>\\n\"+\n",
       "     \"<li>use INLINE resources instead, as so:</li>\\n\"+\n",
       "     \"</ul>\\n\"+\n",
       "     \"<code>\\n\"+\n",
       "     \"from bokeh.resources import INLINE\\n\"+\n",
       "     \"output_notebook(resources=INLINE)\\n\"+\n",
       "     \"</code>\\n\"+\n",
       "     \"</div>\"}};\n",
       "\n",
       "  function display_loaded() {\n",
       "    if (window.Bokeh !== undefined) {\n",
       "      var el = document.getElementById(\"148cdc13-c784-4fef-bd3f-f4d70ae19463\");\n",
       "      el.textContent = \"BokehJS \" + Bokeh.version + \" successfully loaded.\";\n",
       "    } else if (Date.now() < window._bokeh_timeout) {\n",
       "      setTimeout(display_loaded, 100)\n",
       "    }\n",
       "  }\n",
       "\n",
       "  function run_callbacks() {\n",
       "    window._bokeh_onload_callbacks.forEach(function(callback) { callback() });\n",
       "    delete window._bokeh_onload_callbacks\n",
       "    console.info(\"Bokeh: all callbacks have finished\");\n",
       "  }\n",
       "\n",
       "  function load_libs(js_urls, callback) {\n",
       "    window._bokeh_onload_callbacks.push(callback);\n",
       "    if (window._bokeh_is_loading > 0) {\n",
       "      console.log(\"Bokeh: BokehJS is being loaded, scheduling callback at\", now());\n",
       "      return null;\n",
       "    }\n",
       "    if (js_urls == null || js_urls.length === 0) {\n",
       "      run_callbacks();\n",
       "      return null;\n",
       "    }\n",
       "    console.log(\"Bokeh: BokehJS not loaded, scheduling load and callback at\", now());\n",
       "    window._bokeh_is_loading = js_urls.length;\n",
       "    for (var i = 0; i < js_urls.length; i++) {\n",
       "      var url = js_urls[i];\n",
       "      var s = document.createElement('script');\n",
       "      s.src = url;\n",
       "      s.async = false;\n",
       "      s.onreadystatechange = s.onload = function() {\n",
       "        window._bokeh_is_loading--;\n",
       "        if (window._bokeh_is_loading === 0) {\n",
       "          console.log(\"Bokeh: all BokehJS libraries loaded\");\n",
       "          run_callbacks()\n",
       "        }\n",
       "      };\n",
       "      s.onerror = function() {\n",
       "        console.warn(\"failed to load library \" + url);\n",
       "      };\n",
       "      console.log(\"Bokeh: injecting script tag for BokehJS library: \", url);\n",
       "      document.getElementsByTagName(\"head\")[0].appendChild(s);\n",
       "    }\n",
       "  };var element = document.getElementById(\"148cdc13-c784-4fef-bd3f-f4d70ae19463\");\n",
       "  if (element == null) {\n",
       "    console.log(\"Bokeh: ERROR: autoload.js configured with elementid '148cdc13-c784-4fef-bd3f-f4d70ae19463' but no matching script tag was found. \")\n",
       "    return false;\n",
       "  }\n",
       "\n",
       "  var js_urls = [\"https://cdn.pydata.org/bokeh/release/bokeh-0.12.5.min.js\", \"https://cdn.pydata.org/bokeh/release/bokeh-widgets-0.12.5.min.js\"];\n",
       "\n",
       "  var inline_js = [\n",
       "    function(Bokeh) {\n",
       "      Bokeh.set_log_level(\"info\");\n",
       "    },\n",
       "    \n",
       "    function(Bokeh) {\n",
       "      \n",
       "    },\n",
       "    \n",
       "    function(Bokeh) {\n",
       "      \n",
       "      document.getElementById(\"148cdc13-c784-4fef-bd3f-f4d70ae19463\").textContent = \"BokehJS is loading...\";\n",
       "    },\n",
       "    function(Bokeh) {\n",
       "      console.log(\"Bokeh: injecting CSS: https://cdn.pydata.org/bokeh/release/bokeh-0.12.5.min.css\");\n",
       "      Bokeh.embed.inject_css(\"https://cdn.pydata.org/bokeh/release/bokeh-0.12.5.min.css\");\n",
       "      console.log(\"Bokeh: injecting CSS: https://cdn.pydata.org/bokeh/release/bokeh-widgets-0.12.5.min.css\");\n",
       "      Bokeh.embed.inject_css(\"https://cdn.pydata.org/bokeh/release/bokeh-widgets-0.12.5.min.css\");\n",
       "    }\n",
       "  ];\n",
       "\n",
       "  function run_inline_js() {\n",
       "    \n",
       "    if ((window.Bokeh !== undefined) || (force === true)) {\n",
       "      for (var i = 0; i < inline_js.length; i++) {\n",
       "        inline_js[i](window.Bokeh);\n",
       "      }if (force === true) {\n",
       "        display_loaded();\n",
       "      }} else if (Date.now() < window._bokeh_timeout) {\n",
       "      setTimeout(run_inline_js, 100);\n",
       "    } else if (!window._bokeh_failed_load) {\n",
       "      console.log(\"Bokeh: BokehJS failed to load within specified timeout.\");\n",
       "      window._bokeh_failed_load = true;\n",
       "    } else if (force !== true) {\n",
       "      var cell = $(document.getElementById(\"148cdc13-c784-4fef-bd3f-f4d70ae19463\")).parents('.cell').data().cell;\n",
       "      cell.output_area.append_execute_result(NB_LOAD_WARNING)\n",
       "    }\n",
       "\n",
       "  }\n",
       "\n",
       "  if (window._bokeh_is_loading === 0) {\n",
       "    console.log(\"Bokeh: BokehJS loaded, going straight to plotting\");\n",
       "    run_inline_js();\n",
       "  } else {\n",
       "    load_libs(js_urls, function() {\n",
       "      console.log(\"Bokeh: BokehJS plotting callback run at\", now());\n",
       "      run_inline_js();\n",
       "    });\n",
       "  }\n",
       "}(this));"
      ]
     },
     "metadata": {},
     "output_type": "display_data"
    },
    {
     "data": {
      "text/html": [
       "\n",
       "\n",
       "    <div class=\"bk-root\">\n",
       "        <div class=\"bk-plotdiv\" id=\"525720fb-a0f6-44f7-9ae6-856114256d86\"></div>\n",
       "    </div>\n",
       "<script type=\"text/javascript\">\n",
       "  \n",
       "  (function(global) {\n",
       "    function now() {\n",
       "      return new Date();\n",
       "    }\n",
       "  \n",
       "    var force = false;\n",
       "  \n",
       "    if (typeof (window._bokeh_onload_callbacks) === \"undefined\" || force === true) {\n",
       "      window._bokeh_onload_callbacks = [];\n",
       "      window._bokeh_is_loading = undefined;\n",
       "    }\n",
       "  \n",
       "  \n",
       "    \n",
       "    if (typeof (window._bokeh_timeout) === \"undefined\" || force === true) {\n",
       "      window._bokeh_timeout = Date.now() + 0;\n",
       "      window._bokeh_failed_load = false;\n",
       "    }\n",
       "  \n",
       "    var NB_LOAD_WARNING = {'data': {'text/html':\n",
       "       \"<div style='background-color: #fdd'>\\n\"+\n",
       "       \"<p>\\n\"+\n",
       "       \"BokehJS does not appear to have successfully loaded. If loading BokehJS from CDN, this \\n\"+\n",
       "       \"may be due to a slow or bad network connection. Possible fixes:\\n\"+\n",
       "       \"</p>\\n\"+\n",
       "       \"<ul>\\n\"+\n",
       "       \"<li>re-rerun `output_notebook()` to attempt to load from CDN again, or</li>\\n\"+\n",
       "       \"<li>use INLINE resources instead, as so:</li>\\n\"+\n",
       "       \"</ul>\\n\"+\n",
       "       \"<code>\\n\"+\n",
       "       \"from bokeh.resources import INLINE\\n\"+\n",
       "       \"output_notebook(resources=INLINE)\\n\"+\n",
       "       \"</code>\\n\"+\n",
       "       \"</div>\"}};\n",
       "  \n",
       "    function display_loaded() {\n",
       "      if (window.Bokeh !== undefined) {\n",
       "        var el = document.getElementById(\"525720fb-a0f6-44f7-9ae6-856114256d86\");\n",
       "        el.textContent = \"BokehJS \" + Bokeh.version + \" successfully loaded.\";\n",
       "      } else if (Date.now() < window._bokeh_timeout) {\n",
       "        setTimeout(display_loaded, 100)\n",
       "      }\n",
       "    }if ((window.Jupyter !== undefined) && Jupyter.notebook.kernel) {\n",
       "      comm_manager = Jupyter.notebook.kernel.comm_manager\n",
       "      comm_manager.register_target(\"23787d5d-fdf0-43d4-b5f5-31c31ce36eb3\", function () {});\n",
       "    }\n",
       "  \n",
       "    function run_callbacks() {\n",
       "      window._bokeh_onload_callbacks.forEach(function(callback) { callback() });\n",
       "      delete window._bokeh_onload_callbacks\n",
       "      console.info(\"Bokeh: all callbacks have finished\");\n",
       "    }\n",
       "  \n",
       "    function load_libs(js_urls, callback) {\n",
       "      window._bokeh_onload_callbacks.push(callback);\n",
       "      if (window._bokeh_is_loading > 0) {\n",
       "        console.log(\"Bokeh: BokehJS is being loaded, scheduling callback at\", now());\n",
       "        return null;\n",
       "      }\n",
       "      if (js_urls == null || js_urls.length === 0) {\n",
       "        run_callbacks();\n",
       "        return null;\n",
       "      }\n",
       "      console.log(\"Bokeh: BokehJS not loaded, scheduling load and callback at\", now());\n",
       "      window._bokeh_is_loading = js_urls.length;\n",
       "      for (var i = 0; i < js_urls.length; i++) {\n",
       "        var url = js_urls[i];\n",
       "        var s = document.createElement('script');\n",
       "        s.src = url;\n",
       "        s.async = false;\n",
       "        s.onreadystatechange = s.onload = function() {\n",
       "          window._bokeh_is_loading--;\n",
       "          if (window._bokeh_is_loading === 0) {\n",
       "            console.log(\"Bokeh: all BokehJS libraries loaded\");\n",
       "            run_callbacks()\n",
       "          }\n",
       "        };\n",
       "        s.onerror = function() {\n",
       "          console.warn(\"failed to load library \" + url);\n",
       "        };\n",
       "        console.log(\"Bokeh: injecting script tag for BokehJS library: \", url);\n",
       "        document.getElementsByTagName(\"head\")[0].appendChild(s);\n",
       "      }\n",
       "    };var element = document.getElementById(\"525720fb-a0f6-44f7-9ae6-856114256d86\");\n",
       "    if (element == null) {\n",
       "      console.log(\"Bokeh: ERROR: autoload.js configured with elementid '525720fb-a0f6-44f7-9ae6-856114256d86' but no matching script tag was found. \")\n",
       "      return false;\n",
       "    }\n",
       "  \n",
       "    var js_urls = [];\n",
       "  \n",
       "    var inline_js = [\n",
       "      function(Bokeh) {\n",
       "        (function() {\n",
       "          var fn = function() {\n",
       "            var docs_json = {\"ceaba91e-d90d-4afa-873f-39b0400f2559\":{\"roots\":{\"references\":[{\"attributes\":{\"data_source\":{\"id\":\"8a5a300c-d8ea-4edf-901f-5b8356c0b528\",\"type\":\"ColumnDataSource\"},\"glyph\":{\"id\":\"a3e50c69-f350-4a99-bc53-b54e135abe85\",\"type\":\"Line\"},\"hover_glyph\":null,\"muted_glyph\":null,\"nonselection_glyph\":{\"id\":\"7432acff-bd7b-4a37-a349-0e21108754ba\",\"type\":\"Line\"},\"selection_glyph\":null},\"id\":\"fcae39fb-7112-49d7-a42c-586a134aadb8\",\"type\":\"GlyphRenderer\"},{\"attributes\":{\"callback\":null,\"column_names\":[\"x\",\"y\"],\"data\":{\"x\":{\"__ndarray__\":\"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\",\"dtype\":\"float64\",\"shape\":[200]},\"y\":{\"__ndarray__\":\"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\",\"dtype\":\"float64\",\"shape\":[200]}}},\"id\":\"8a5a300c-d8ea-4edf-901f-5b8356c0b528\",\"type\":\"ColumnDataSource\"},{\"attributes\":{\"dimension\":1,\"plot\":{\"id\":\"e5539371-3859-4fb3-a64b-5a5d0ea06742\",\"subtype\":\"Figure\",\"type\":\"Plot\"},\"ticker\":{\"id\":\"5b704f1e-c68a-418d-a1e0-969824145d76\",\"type\":\"BasicTicker\"}},\"id\":\"8f554b91-6590-4041-b18c-d50267074302\",\"type\":\"Grid\"},{\"attributes\":{\"formatter\":{\"id\":\"cc0c7a96-9da0-465c-8441-939048447f68\",\"type\":\"BasicTickFormatter\"},\"plot\":{\"id\":\"e5539371-3859-4fb3-a64b-5a5d0ea06742\",\"subtype\":\"Figure\",\"type\":\"Plot\"},\"ticker\":{\"id\":\"a90aea86-cef4-4b96-b900-803f4fe1fda2\",\"type\":\"BasicTicker\"}},\"id\":\"7cd10005-09ca-4220-b234-8247e05cbfb4\",\"type\":\"LinearAxis\"},{\"attributes\":{\"plot\":{\"id\":\"e5539371-3859-4fb3-a64b-5a5d0ea06742\",\"subtype\":\"Figure\",\"type\":\"Plot\"}},\"id\":\"a7d558c6-9fc1-426c-a7af-db3a5a9de32b\",\"type\":\"SaveTool\"},{\"attributes\":{\"plot\":{\"id\":\"e5539371-3859-4fb3-a64b-5a5d0ea06742\",\"subtype\":\"Figure\",\"type\":\"Plot\"}},\"id\":\"0c490351-0c24-47dc-987c-446be1d45e56\",\"type\":\"ResetTool\"},{\"attributes\":{\"plot\":null,\"text\":\"Single Neuron Output (high weight)\"},\"id\":\"db9b0214-550d-4410-a568-7dea9651dfea\",\"type\":\"Title\"},{\"attributes\":{},\"id\":\"a90aea86-cef4-4b96-b900-803f4fe1fda2\",\"type\":\"BasicTicker\"},{\"attributes\":{},\"id\":\"5b704f1e-c68a-418d-a1e0-969824145d76\",\"type\":\"BasicTicker\"},{\"attributes\":{\"plot\":{\"id\":\"e5539371-3859-4fb3-a64b-5a5d0ea06742\",\"subtype\":\"Figure\",\"type\":\"Plot\"},\"ticker\":{\"id\":\"a90aea86-cef4-4b96-b900-803f4fe1fda2\",\"type\":\"BasicTicker\"}},\"id\":\"03e2b55b-b4e5-4919-a723-10b98162d0f3\",\"type\":\"Grid\"},{\"attributes\":{\"plot\":{\"id\":\"e5539371-3859-4fb3-a64b-5a5d0ea06742\",\"subtype\":\"Figure\",\"type\":\"Plot\"}},\"id\":\"964cc125-88df-47c6-a2ea-48f62afdb264\",\"type\":\"PanTool\"},{\"attributes\":{\"line_color\":{\"value\":\"#8888cc\"},\"line_width\":{\"value\":3},\"x\":{\"field\":\"x\"},\"y\":{\"field\":\"y\"}},\"id\":\"a3e50c69-f350-4a99-bc53-b54e135abe85\",\"type\":\"Line\"},{\"attributes\":{\"overlay\":{\"id\":\"6e5a451d-e39c-4556-9216-00a9d284e5ea\",\"type\":\"BoxAnnotation\"},\"plot\":{\"id\":\"e5539371-3859-4fb3-a64b-5a5d0ea06742\",\"subtype\":\"Figure\",\"type\":\"Plot\"}},\"id\":\"6e7dab43-89c0-4512-9be2-690a2c7c4e0e\",\"type\":\"BoxZoomTool\"},{\"attributes\":{\"bottom_units\":\"screen\",\"fill_alpha\":{\"value\":0.5},\"fill_color\":{\"value\":\"lightgrey\"},\"left_units\":\"screen\",\"level\":\"overlay\",\"line_alpha\":{\"value\":1.0},\"line_color\":{\"value\":\"black\"},\"line_dash\":[4,4],\"line_width\":{\"value\":2},\"plot\":null,\"render_mode\":\"css\",\"right_units\":\"screen\",\"top_units\":\"screen\"},\"id\":\"6e5a451d-e39c-4556-9216-00a9d284e5ea\",\"type\":\"BoxAnnotation\"},{\"attributes\":{\"callback\":null},\"id\":\"5fd5b6ae-d673-4121-8600-734a7bcace10\",\"type\":\"DataRange1d\"},{\"attributes\":{},\"id\":\"0ab2be83-64e4-47fa-8eb0-87890fe9041d\",\"type\":\"BasicTickFormatter\"},{\"attributes\":{\"callback\":null,\"end\":1.25,\"start\":-0.25},\"id\":\"1dff8df1-eabf-40b6-8265-d790bc2576d4\",\"type\":\"Range1d\"},{\"attributes\":{\"plot\":{\"id\":\"e5539371-3859-4fb3-a64b-5a5d0ea06742\",\"subtype\":\"Figure\",\"type\":\"Plot\"}},\"id\":\"1ee06444-3713-4bd1-b020-6e38fced8237\",\"type\":\"HelpTool\"},{\"attributes\":{\"active_drag\":\"auto\",\"active_scroll\":\"auto\",\"active_tap\":\"auto\",\"tools\":[{\"id\":\"964cc125-88df-47c6-a2ea-48f62afdb264\",\"type\":\"PanTool\"},{\"id\":\"29b2518d-bc92-4d05-9c74-05c819d01067\",\"type\":\"WheelZoomTool\"},{\"id\":\"6e7dab43-89c0-4512-9be2-690a2c7c4e0e\",\"type\":\"BoxZoomTool\"},{\"id\":\"a7d558c6-9fc1-426c-a7af-db3a5a9de32b\",\"type\":\"SaveTool\"},{\"id\":\"0c490351-0c24-47dc-987c-446be1d45e56\",\"type\":\"ResetTool\"},{\"id\":\"1ee06444-3713-4bd1-b020-6e38fced8237\",\"type\":\"HelpTool\"}]},\"id\":\"bb54b6fc-b5db-4f70-9307-8a53a3236272\",\"type\":\"Toolbar\"},{\"attributes\":{\"plot\":{\"id\":\"e5539371-3859-4fb3-a64b-5a5d0ea06742\",\"subtype\":\"Figure\",\"type\":\"Plot\"}},\"id\":\"29b2518d-bc92-4d05-9c74-05c819d01067\",\"type\":\"WheelZoomTool\"},{\"attributes\":{\"background_fill_color\":{\"value\":\"#efefef\"},\"below\":[{\"id\":\"7cd10005-09ca-4220-b234-8247e05cbfb4\",\"type\":\"LinearAxis\"}],\"left\":[{\"id\":\"59591d1f-6322-4255-9dda-da1ea6822b50\",\"type\":\"LinearAxis\"}],\"plot_height\":300,\"plot_width\":400,\"renderers\":[{\"id\":\"7cd10005-09ca-4220-b234-8247e05cbfb4\",\"type\":\"LinearAxis\"},{\"id\":\"03e2b55b-b4e5-4919-a723-10b98162d0f3\",\"type\":\"Grid\"},{\"id\":\"59591d1f-6322-4255-9dda-da1ea6822b50\",\"type\":\"LinearAxis\"},{\"id\":\"8f554b91-6590-4041-b18c-d50267074302\",\"type\":\"Grid\"},{\"id\":\"6e5a451d-e39c-4556-9216-00a9d284e5ea\",\"type\":\"BoxAnnotation\"},{\"id\":\"fcae39fb-7112-49d7-a42c-586a134aadb8\",\"type\":\"GlyphRenderer\"}],\"title\":{\"id\":\"db9b0214-550d-4410-a568-7dea9651dfea\",\"type\":\"Title\"},\"tool_events\":{\"id\":\"a3a6c0c1-7939-49c1-ba75-d7d7d2570348\",\"type\":\"ToolEvents\"},\"toolbar\":{\"id\":\"bb54b6fc-b5db-4f70-9307-8a53a3236272\",\"type\":\"Toolbar\"},\"x_range\":{\"id\":\"5fd5b6ae-d673-4121-8600-734a7bcace10\",\"type\":\"DataRange1d\"},\"y_range\":{\"id\":\"1dff8df1-eabf-40b6-8265-d790bc2576d4\",\"type\":\"Range1d\"}},\"id\":\"e5539371-3859-4fb3-a64b-5a5d0ea06742\",\"subtype\":\"Figure\",\"type\":\"Plot\"},{\"attributes\":{},\"id\":\"a3a6c0c1-7939-49c1-ba75-d7d7d2570348\",\"type\":\"ToolEvents\"},{\"attributes\":{\"formatter\":{\"id\":\"0ab2be83-64e4-47fa-8eb0-87890fe9041d\",\"type\":\"BasicTickFormatter\"},\"plot\":{\"id\":\"e5539371-3859-4fb3-a64b-5a5d0ea06742\",\"subtype\":\"Figure\",\"type\":\"Plot\"},\"ticker\":{\"id\":\"5b704f1e-c68a-418d-a1e0-969824145d76\",\"type\":\"BasicTicker\"}},\"id\":\"59591d1f-6322-4255-9dda-da1ea6822b50\",\"type\":\"LinearAxis\"},{\"attributes\":{\"line_alpha\":{\"value\":0.1},\"line_color\":{\"value\":\"#1f77b4\"},\"line_width\":{\"value\":3},\"x\":{\"field\":\"x\"},\"y\":{\"field\":\"y\"}},\"id\":\"7432acff-bd7b-4a37-a349-0e21108754ba\",\"type\":\"Line\"},{\"attributes\":{},\"id\":\"cc0c7a96-9da0-465c-8441-939048447f68\",\"type\":\"BasicTickFormatter\"}],\"root_ids\":[\"e5539371-3859-4fb3-a64b-5a5d0ea06742\"]},\"title\":\"Bokeh Application\",\"version\":\"0.12.5\"}};\n",
       "            var render_items = [{\"docid\":\"ceaba91e-d90d-4afa-873f-39b0400f2559\",\"elementid\":\"525720fb-a0f6-44f7-9ae6-856114256d86\",\"modelid\":\"e5539371-3859-4fb3-a64b-5a5d0ea06742\",\"notebook_comms_target\":\"23787d5d-fdf0-43d4-b5f5-31c31ce36eb3\"}];\n",
       "            \n",
       "            Bokeh.embed.embed_items(docs_json, render_items);\n",
       "          };\n",
       "          if (document.readyState != \"loading\") fn();\n",
       "          else document.addEventListener(\"DOMContentLoaded\", fn);\n",
       "        })();\n",
       "      },\n",
       "      function(Bokeh) {\n",
       "      }\n",
       "    ];\n",
       "  \n",
       "    function run_inline_js() {\n",
       "      \n",
       "      if ((window.Bokeh !== undefined) || (force === true)) {\n",
       "        for (var i = 0; i < inline_js.length; i++) {\n",
       "          inline_js[i](window.Bokeh);\n",
       "        }if (force === true) {\n",
       "          display_loaded();\n",
       "        }} else if (Date.now() < window._bokeh_timeout) {\n",
       "        setTimeout(run_inline_js, 100);\n",
       "      } else if (!window._bokeh_failed_load) {\n",
       "        console.log(\"Bokeh: BokehJS failed to load within specified timeout.\");\n",
       "        window._bokeh_failed_load = true;\n",
       "      } else if (force !== true) {\n",
       "        var cell = $(document.getElementById(\"525720fb-a0f6-44f7-9ae6-856114256d86\")).parents('.cell').data().cell;\n",
       "        cell.output_area.append_execute_result(NB_LOAD_WARNING)\n",
       "      }\n",
       "  \n",
       "    }\n",
       "  \n",
       "    if (window._bokeh_is_loading === 0) {\n",
       "      console.log(\"Bokeh: BokehJS loaded, going straight to plotting\");\n",
       "      run_inline_js();\n",
       "    } else {\n",
       "      load_libs(js_urls, function() {\n",
       "        console.log(\"Bokeh: BokehJS plotting callback run at\", now());\n",
       "        run_inline_js();\n",
       "      });\n",
       "    }\n",
       "  }(this));\n",
       "</script>"
      ]
     },
     "metadata": {},
     "output_type": "display_data"
    },
    {
     "data": {
      "application/vnd.jupyter.widget-view+json": {
       "model_id": "d4530f6f37814f36b33f687449490243"
      }
     },
     "metadata": {},
     "output_type": "display_data"
    }
   ],
   "source": [
    "output_notebook()\n",
    "\n",
    "weight = 50\n",
    "x = np.linspace(-5, 5, 200)\n",
    "y = sigmoid(weight*(0+x))\n",
    "\n",
    "p = figure(title=\"Single Neuron Output (high weight)\", plot_height=300, plot_width=400, y_range=(-.25,1.25),\n",
    "           background_fill_color='#efefef')\n",
    "r = p.line(x, y, color=\"#8888cc\", line_width=3, alpha=1)\n",
    "\n",
    "def update(s=0):\n",
    "    r.data_source.data['y'] = sigmoid(weight*(-s+x))\n",
    "    push_notebook()\n",
    "    \n",
    "show(p, notebook_handle=True)\n",
    "interact(update, s=(-5.00,5.00));"
   ]
  },
  {
   "cell_type": "markdown",
   "metadata": {},
   "source": [
    "Now consider the following neural network with a hidden layer with two neurons. \n",
    "\n",
    "<img src=\"../notebooks/images/universal.png\" alt=\"drawing\" width=\"600\"/>"
   ]
  },
  {
   "cell_type": "code",
   "execution_count": 23,
   "metadata": {},
   "outputs": [
    {
     "data": {
      "text/html": [
       "\n",
       "    <div class=\"bk-root\">\n",
       "        <a href=\"http://bokeh.pydata.org\" target=\"_blank\" class=\"bk-logo bk-logo-small bk-logo-notebook\"></a>\n",
       "        <span id=\"2f74c3a3-3c2a-43d8-a855-8e45d5757978\">Loading BokehJS ...</span>\n",
       "    </div>"
      ]
     },
     "metadata": {},
     "output_type": "display_data"
    },
    {
     "data": {
      "application/javascript": [
       "\n",
       "(function(global) {\n",
       "  function now() {\n",
       "    return new Date();\n",
       "  }\n",
       "\n",
       "  var force = true;\n",
       "\n",
       "  if (typeof (window._bokeh_onload_callbacks) === \"undefined\" || force === true) {\n",
       "    window._bokeh_onload_callbacks = [];\n",
       "    window._bokeh_is_loading = undefined;\n",
       "  }\n",
       "\n",
       "\n",
       "  \n",
       "  if (typeof (window._bokeh_timeout) === \"undefined\" || force === true) {\n",
       "    window._bokeh_timeout = Date.now() + 5000;\n",
       "    window._bokeh_failed_load = false;\n",
       "  }\n",
       "\n",
       "  var NB_LOAD_WARNING = {'data': {'text/html':\n",
       "     \"<div style='background-color: #fdd'>\\n\"+\n",
       "     \"<p>\\n\"+\n",
       "     \"BokehJS does not appear to have successfully loaded. If loading BokehJS from CDN, this \\n\"+\n",
       "     \"may be due to a slow or bad network connection. Possible fixes:\\n\"+\n",
       "     \"</p>\\n\"+\n",
       "     \"<ul>\\n\"+\n",
       "     \"<li>re-rerun `output_notebook()` to attempt to load from CDN again, or</li>\\n\"+\n",
       "     \"<li>use INLINE resources instead, as so:</li>\\n\"+\n",
       "     \"</ul>\\n\"+\n",
       "     \"<code>\\n\"+\n",
       "     \"from bokeh.resources import INLINE\\n\"+\n",
       "     \"output_notebook(resources=INLINE)\\n\"+\n",
       "     \"</code>\\n\"+\n",
       "     \"</div>\"}};\n",
       "\n",
       "  function display_loaded() {\n",
       "    if (window.Bokeh !== undefined) {\n",
       "      var el = document.getElementById(\"2f74c3a3-3c2a-43d8-a855-8e45d5757978\");\n",
       "      el.textContent = \"BokehJS \" + Bokeh.version + \" successfully loaded.\";\n",
       "    } else if (Date.now() < window._bokeh_timeout) {\n",
       "      setTimeout(display_loaded, 100)\n",
       "    }\n",
       "  }\n",
       "\n",
       "  function run_callbacks() {\n",
       "    window._bokeh_onload_callbacks.forEach(function(callback) { callback() });\n",
       "    delete window._bokeh_onload_callbacks\n",
       "    console.info(\"Bokeh: all callbacks have finished\");\n",
       "  }\n",
       "\n",
       "  function load_libs(js_urls, callback) {\n",
       "    window._bokeh_onload_callbacks.push(callback);\n",
       "    if (window._bokeh_is_loading > 0) {\n",
       "      console.log(\"Bokeh: BokehJS is being loaded, scheduling callback at\", now());\n",
       "      return null;\n",
       "    }\n",
       "    if (js_urls == null || js_urls.length === 0) {\n",
       "      run_callbacks();\n",
       "      return null;\n",
       "    }\n",
       "    console.log(\"Bokeh: BokehJS not loaded, scheduling load and callback at\", now());\n",
       "    window._bokeh_is_loading = js_urls.length;\n",
       "    for (var i = 0; i < js_urls.length; i++) {\n",
       "      var url = js_urls[i];\n",
       "      var s = document.createElement('script');\n",
       "      s.src = url;\n",
       "      s.async = false;\n",
       "      s.onreadystatechange = s.onload = function() {\n",
       "        window._bokeh_is_loading--;\n",
       "        if (window._bokeh_is_loading === 0) {\n",
       "          console.log(\"Bokeh: all BokehJS libraries loaded\");\n",
       "          run_callbacks()\n",
       "        }\n",
       "      };\n",
       "      s.onerror = function() {\n",
       "        console.warn(\"failed to load library \" + url);\n",
       "      };\n",
       "      console.log(\"Bokeh: injecting script tag for BokehJS library: \", url);\n",
       "      document.getElementsByTagName(\"head\")[0].appendChild(s);\n",
       "    }\n",
       "  };var element = document.getElementById(\"2f74c3a3-3c2a-43d8-a855-8e45d5757978\");\n",
       "  if (element == null) {\n",
       "    console.log(\"Bokeh: ERROR: autoload.js configured with elementid '2f74c3a3-3c2a-43d8-a855-8e45d5757978' but no matching script tag was found. \")\n",
       "    return false;\n",
       "  }\n",
       "\n",
       "  var js_urls = [\"https://cdn.pydata.org/bokeh/release/bokeh-0.12.5.min.js\", \"https://cdn.pydata.org/bokeh/release/bokeh-widgets-0.12.5.min.js\"];\n",
       "\n",
       "  var inline_js = [\n",
       "    function(Bokeh) {\n",
       "      Bokeh.set_log_level(\"info\");\n",
       "    },\n",
       "    \n",
       "    function(Bokeh) {\n",
       "      \n",
       "    },\n",
       "    \n",
       "    function(Bokeh) {\n",
       "      \n",
       "      document.getElementById(\"2f74c3a3-3c2a-43d8-a855-8e45d5757978\").textContent = \"BokehJS is loading...\";\n",
       "    },\n",
       "    function(Bokeh) {\n",
       "      console.log(\"Bokeh: injecting CSS: https://cdn.pydata.org/bokeh/release/bokeh-0.12.5.min.css\");\n",
       "      Bokeh.embed.inject_css(\"https://cdn.pydata.org/bokeh/release/bokeh-0.12.5.min.css\");\n",
       "      console.log(\"Bokeh: injecting CSS: https://cdn.pydata.org/bokeh/release/bokeh-widgets-0.12.5.min.css\");\n",
       "      Bokeh.embed.inject_css(\"https://cdn.pydata.org/bokeh/release/bokeh-widgets-0.12.5.min.css\");\n",
       "    }\n",
       "  ];\n",
       "\n",
       "  function run_inline_js() {\n",
       "    \n",
       "    if ((window.Bokeh !== undefined) || (force === true)) {\n",
       "      for (var i = 0; i < inline_js.length; i++) {\n",
       "        inline_js[i](window.Bokeh);\n",
       "      }if (force === true) {\n",
       "        display_loaded();\n",
       "      }} else if (Date.now() < window._bokeh_timeout) {\n",
       "      setTimeout(run_inline_js, 100);\n",
       "    } else if (!window._bokeh_failed_load) {\n",
       "      console.log(\"Bokeh: BokehJS failed to load within specified timeout.\");\n",
       "      window._bokeh_failed_load = true;\n",
       "    } else if (force !== true) {\n",
       "      var cell = $(document.getElementById(\"2f74c3a3-3c2a-43d8-a855-8e45d5757978\")).parents('.cell').data().cell;\n",
       "      cell.output_area.append_execute_result(NB_LOAD_WARNING)\n",
       "    }\n",
       "\n",
       "  }\n",
       "\n",
       "  if (window._bokeh_is_loading === 0) {\n",
       "    console.log(\"Bokeh: BokehJS loaded, going straight to plotting\");\n",
       "    run_inline_js();\n",
       "  } else {\n",
       "    load_libs(js_urls, function() {\n",
       "      console.log(\"Bokeh: BokehJS plotting callback run at\", now());\n",
       "      run_inline_js();\n",
       "    });\n",
       "  }\n",
       "}(this));"
      ]
     },
     "metadata": {},
     "output_type": "display_data"
    },
    {
     "data": {
      "text/html": [
       "\n",
       "\n",
       "    <div class=\"bk-root\">\n",
       "        <div class=\"bk-plotdiv\" id=\"964714a7-4af5-4be1-bfdf-e0e81d50a0ab\"></div>\n",
       "    </div>\n",
       "<script type=\"text/javascript\">\n",
       "  \n",
       "  (function(global) {\n",
       "    function now() {\n",
       "      return new Date();\n",
       "    }\n",
       "  \n",
       "    var force = false;\n",
       "  \n",
       "    if (typeof (window._bokeh_onload_callbacks) === \"undefined\" || force === true) {\n",
       "      window._bokeh_onload_callbacks = [];\n",
       "      window._bokeh_is_loading = undefined;\n",
       "    }\n",
       "  \n",
       "  \n",
       "    \n",
       "    if (typeof (window._bokeh_timeout) === \"undefined\" || force === true) {\n",
       "      window._bokeh_timeout = Date.now() + 0;\n",
       "      window._bokeh_failed_load = false;\n",
       "    }\n",
       "  \n",
       "    var NB_LOAD_WARNING = {'data': {'text/html':\n",
       "       \"<div style='background-color: #fdd'>\\n\"+\n",
       "       \"<p>\\n\"+\n",
       "       \"BokehJS does not appear to have successfully loaded. If loading BokehJS from CDN, this \\n\"+\n",
       "       \"may be due to a slow or bad network connection. Possible fixes:\\n\"+\n",
       "       \"</p>\\n\"+\n",
       "       \"<ul>\\n\"+\n",
       "       \"<li>re-rerun `output_notebook()` to attempt to load from CDN again, or</li>\\n\"+\n",
       "       \"<li>use INLINE resources instead, as so:</li>\\n\"+\n",
       "       \"</ul>\\n\"+\n",
       "       \"<code>\\n\"+\n",
       "       \"from bokeh.resources import INLINE\\n\"+\n",
       "       \"output_notebook(resources=INLINE)\\n\"+\n",
       "       \"</code>\\n\"+\n",
       "       \"</div>\"}};\n",
       "  \n",
       "    function display_loaded() {\n",
       "      if (window.Bokeh !== undefined) {\n",
       "        var el = document.getElementById(\"964714a7-4af5-4be1-bfdf-e0e81d50a0ab\");\n",
       "        el.textContent = \"BokehJS \" + Bokeh.version + \" successfully loaded.\";\n",
       "      } else if (Date.now() < window._bokeh_timeout) {\n",
       "        setTimeout(display_loaded, 100)\n",
       "      }\n",
       "    }if ((window.Jupyter !== undefined) && Jupyter.notebook.kernel) {\n",
       "      comm_manager = Jupyter.notebook.kernel.comm_manager\n",
       "      comm_manager.register_target(\"8de40406-e132-4780-85e0-7b241e2fd419\", function () {});\n",
       "    }\n",
       "  \n",
       "    function run_callbacks() {\n",
       "      window._bokeh_onload_callbacks.forEach(function(callback) { callback() });\n",
       "      delete window._bokeh_onload_callbacks\n",
       "      console.info(\"Bokeh: all callbacks have finished\");\n",
       "    }\n",
       "  \n",
       "    function load_libs(js_urls, callback) {\n",
       "      window._bokeh_onload_callbacks.push(callback);\n",
       "      if (window._bokeh_is_loading > 0) {\n",
       "        console.log(\"Bokeh: BokehJS is being loaded, scheduling callback at\", now());\n",
       "        return null;\n",
       "      }\n",
       "      if (js_urls == null || js_urls.length === 0) {\n",
       "        run_callbacks();\n",
       "        return null;\n",
       "      }\n",
       "      console.log(\"Bokeh: BokehJS not loaded, scheduling load and callback at\", now());\n",
       "      window._bokeh_is_loading = js_urls.length;\n",
       "      for (var i = 0; i < js_urls.length; i++) {\n",
       "        var url = js_urls[i];\n",
       "        var s = document.createElement('script');\n",
       "        s.src = url;\n",
       "        s.async = false;\n",
       "        s.onreadystatechange = s.onload = function() {\n",
       "          window._bokeh_is_loading--;\n",
       "          if (window._bokeh_is_loading === 0) {\n",
       "            console.log(\"Bokeh: all BokehJS libraries loaded\");\n",
       "            run_callbacks()\n",
       "          }\n",
       "        };\n",
       "        s.onerror = function() {\n",
       "          console.warn(\"failed to load library \" + url);\n",
       "        };\n",
       "        console.log(\"Bokeh: injecting script tag for BokehJS library: \", url);\n",
       "        document.getElementsByTagName(\"head\")[0].appendChild(s);\n",
       "      }\n",
       "    };var element = document.getElementById(\"964714a7-4af5-4be1-bfdf-e0e81d50a0ab\");\n",
       "    if (element == null) {\n",
       "      console.log(\"Bokeh: ERROR: autoload.js configured with elementid '964714a7-4af5-4be1-bfdf-e0e81d50a0ab' but no matching script tag was found. \")\n",
       "      return false;\n",
       "    }\n",
       "  \n",
       "    var js_urls = [];\n",
       "  \n",
       "    var inline_js = [\n",
       "      function(Bokeh) {\n",
       "        (function() {\n",
       "          var fn = function() {\n",
       "            var docs_json = {\"13959e00-b41f-4881-88f9-e209c2de57d5\":{\"roots\":{\"references\":[{\"attributes\":{\"dimension\":1,\"plot\":{\"id\":\"2b9884af-0d90-41bb-a095-32034b96892d\",\"subtype\":\"Figure\",\"type\":\"Plot\"},\"ticker\":{\"id\":\"8afc218e-977c-4272-b133-4bdb7034d974\",\"type\":\"BasicTicker\"}},\"id\":\"3292773c-ed99-444e-925f-ef411355d96c\",\"type\":\"Grid\"},{\"attributes\":{\"callback\":null,\"end\":1.25,\"start\":-0.25},\"id\":\"724f3419-9865-4b1c-9afe-ac2772c4dfba\",\"type\":\"Range1d\"},{\"attributes\":{\"callback\":null,\"column_names\":[\"x\",\"y\"],\"data\":{\"x\":{\"__ndarray__\":\"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\",\"dtype\":\"float64\",\"shape\":[200]},\"y\":{\"__ndarray__\":\"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\",\"dtype\":\"float64\",\"shape\":[200]}}},\"id\":\"08eaf107-8e50-41dd-aa2b-ab3d5b5e6721\",\"type\":\"ColumnDataSource\"},{\"attributes\":{\"plot\":{\"id\":\"2b9884af-0d90-41bb-a095-32034b96892d\",\"subtype\":\"Figure\",\"type\":\"Plot\"}},\"id\":\"765df9e0-1e1d-4853-aea6-b53c5844fab4\",\"type\":\"HelpTool\"},{\"attributes\":{\"formatter\":{\"id\":\"728347be-8862-43ad-b6e0-0c9338ce47f1\",\"type\":\"BasicTickFormatter\"},\"plot\":{\"id\":\"dbd63c03-e6eb-4035-8c0e-16aada5456cd\",\"subtype\":\"Figure\",\"type\":\"Plot\"},\"ticker\":{\"id\":\"5978eebb-3a18-47a1-8452-481843d19a4b\",\"type\":\"BasicTicker\"}},\"id\":\"b2b97333-bbfb-4846-84c5-af22d8926d18\",\"type\":\"LinearAxis\"},{\"attributes\":{\"callback\":null,\"end\":1.25,\"start\":-0.25},\"id\":\"9c91c744-21da-428a-b427-def48d3cb50d\",\"type\":\"Range1d\"},{\"attributes\":{},\"id\":\"f2428e25-2955-480d-a6d8-d703445bc40a\",\"type\":\"ToolEvents\"},{\"attributes\":{\"plot\":{\"id\":\"2b9884af-0d90-41bb-a095-32034b96892d\",\"subtype\":\"Figure\",\"type\":\"Plot\"},\"ticker\":{\"id\":\"bad1d897-e67a-4274-bd2d-ec5ecf10b523\",\"type\":\"BasicTicker\"}},\"id\":\"219c76e6-af7f-482b-a226-9e95fc0a1986\",\"type\":\"Grid\"},{\"attributes\":{\"plot\":{\"id\":\"2b9884af-0d90-41bb-a095-32034b96892d\",\"subtype\":\"Figure\",\"type\":\"Plot\"}},\"id\":\"b27a5044-5073-4eea-a349-f889603f459e\",\"type\":\"SaveTool\"},{\"attributes\":{\"data_source\":{\"id\":\"08eaf107-8e50-41dd-aa2b-ab3d5b5e6721\",\"type\":\"ColumnDataSource\"},\"glyph\":{\"id\":\"03d81a7f-8952-4578-8ef7-5c3b584e300c\",\"type\":\"Line\"},\"hover_glyph\":null,\"muted_glyph\":null,\"nonselection_glyph\":{\"id\":\"8553282f-3e38-4f14-af52-80337689a441\",\"type\":\"Line\"},\"selection_glyph\":null},\"id\":\"db59070e-eb8c-48a4-80ba-4bac21855527\",\"type\":\"GlyphRenderer\"},{\"attributes\":{\"bottom_units\":\"screen\",\"fill_alpha\":{\"value\":0.5},\"fill_color\":{\"value\":\"lightgrey\"},\"left_units\":\"screen\",\"level\":\"overlay\",\"line_alpha\":{\"value\":1.0},\"line_color\":{\"value\":\"black\"},\"line_dash\":[4,4],\"line_width\":{\"value\":2},\"plot\":null,\"render_mode\":\"css\",\"right_units\":\"screen\",\"top_units\":\"screen\"},\"id\":\"8767adbd-f5c6-4a50-9059-b37a012548df\",\"type\":\"BoxAnnotation\"},{\"attributes\":{\"overlay\":{\"id\":\"8767adbd-f5c6-4a50-9059-b37a012548df\",\"type\":\"BoxAnnotation\"},\"plot\":{\"id\":\"2b9884af-0d90-41bb-a095-32034b96892d\",\"subtype\":\"Figure\",\"type\":\"Plot\"}},\"id\":\"e3e8198e-c43c-4020-848f-2db490a28c3d\",\"type\":\"BoxZoomTool\"},{\"attributes\":{},\"id\":\"8afc218e-977c-4272-b133-4bdb7034d974\",\"type\":\"BasicTicker\"},{\"attributes\":{\"plot\":{\"id\":\"2b9884af-0d90-41bb-a095-32034b96892d\",\"subtype\":\"Figure\",\"type\":\"Plot\"}},\"id\":\"20cd859c-bee7-4111-8807-2d0895a6d012\",\"type\":\"PanTool\"},{\"attributes\":{},\"id\":\"bad1d897-e67a-4274-bd2d-ec5ecf10b523\",\"type\":\"BasicTicker\"},{\"attributes\":{\"formatter\":{\"id\":\"8b2410a8-9687-4ab7-aae0-4ed4eb21405d\",\"type\":\"BasicTickFormatter\"},\"plot\":{\"id\":\"2b9884af-0d90-41bb-a095-32034b96892d\",\"subtype\":\"Figure\",\"type\":\"Plot\"},\"ticker\":{\"id\":\"bad1d897-e67a-4274-bd2d-ec5ecf10b523\",\"type\":\"BasicTicker\"}},\"id\":\"abd26f09-287f-42d4-85dd-b911bda5de39\",\"type\":\"LinearAxis\"},{\"attributes\":{\"plot\":{\"id\":\"2b9884af-0d90-41bb-a095-32034b96892d\",\"subtype\":\"Figure\",\"type\":\"Plot\"}},\"id\":\"e024f66a-115e-41a1-b97a-5703d6038ce1\",\"type\":\"ResetTool\"},{\"attributes\":{\"active_drag\":\"auto\",\"active_scroll\":\"auto\",\"active_tap\":\"auto\",\"tools\":[{\"id\":\"b99df8f9-8e6d-4e27-b8b6-f39592189f81\",\"type\":\"PanTool\"},{\"id\":\"da59b418-8f51-4d05-85f9-d8f640da72ce\",\"type\":\"WheelZoomTool\"},{\"id\":\"a77bf976-f296-46e2-9708-70db0dafc861\",\"type\":\"BoxZoomTool\"},{\"id\":\"b8a67f54-0400-4f19-bdb4-70ed0d83ad62\",\"type\":\"SaveTool\"},{\"id\":\"981444cc-454d-4792-8fc0-144a3fd2d057\",\"type\":\"ResetTool\"},{\"id\":\"fd89e46f-90ed-4598-b7a4-8cefc6480b7c\",\"type\":\"HelpTool\"}]},\"id\":\"b4e42b53-6036-4a91-951d-0dddf65bd3eb\",\"type\":\"Toolbar\"},{\"attributes\":{},\"id\":\"8b2410a8-9687-4ab7-aae0-4ed4eb21405d\",\"type\":\"BasicTickFormatter\"},{\"attributes\":{\"formatter\":{\"id\":\"8e10667c-ab4a-4287-bc63-248323bbca06\",\"type\":\"BasicTickFormatter\"},\"plot\":{\"id\":\"2b9884af-0d90-41bb-a095-32034b96892d\",\"subtype\":\"Figure\",\"type\":\"Plot\"},\"ticker\":{\"id\":\"8afc218e-977c-4272-b133-4bdb7034d974\",\"type\":\"BasicTicker\"}},\"id\":\"81d2068b-cf0a-4ddd-a057-a61f52139207\",\"type\":\"LinearAxis\"},{\"attributes\":{\"callback\":null},\"id\":\"bb1fc16b-3532-430a-a150-7c4d10f4d010\",\"type\":\"DataRange1d\"},{\"attributes\":{\"line_alpha\":{\"value\":0.1},\"line_color\":{\"value\":\"#1f77b4\"},\"line_width\":{\"value\":3},\"x\":{\"field\":\"x\"},\"y\":{\"field\":\"y\"}},\"id\":\"8553282f-3e38-4f14-af52-80337689a441\",\"type\":\"Line\"},{\"attributes\":{\"plot\":null,\"text\":\"Weighted Sum with bias\"},\"id\":\"7b5d458b-0c42-4e4d-b16d-358b2ab515ce\",\"type\":\"Title\"},{\"attributes\":{\"callback\":null,\"column_names\":[\"x\",\"y\"],\"data\":{\"x\":{\"__ndarray__\":\"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\",\"dtype\":\"float64\",\"shape\":[200]},\"y\":{\"__ndarray__\":\"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\",\"dtype\":\"float64\",\"shape\":[200]}}},\"id\":\"c82ebb6d-423b-45c4-bc7c-3383d351b53a\",\"type\":\"ColumnDataSource\"},{\"attributes\":{},\"id\":\"8e10667c-ab4a-4287-bc63-248323bbca06\",\"type\":\"BasicTickFormatter\"},{\"attributes\":{\"callback\":null},\"id\":\"51d7b087-4696-46ae-ae97-df72e119e3af\",\"type\":\"DataRange1d\"},{\"attributes\":{\"plot\":{\"id\":\"2b9884af-0d90-41bb-a095-32034b96892d\",\"subtype\":\"Figure\",\"type\":\"Plot\"}},\"id\":\"0a4a69fd-1f1f-4b69-b51c-cda03b27b35d\",\"type\":\"WheelZoomTool\"},{\"attributes\":{\"callback\":null,\"end\":3.25,\"start\":-3.25},\"id\":\"27b4cc59-546b-4b92-984c-655fb8fe2b70\",\"type\":\"Range1d\"},{\"attributes\":{\"callback\":null},\"id\":\"732e4be9-7183-465a-81d6-41a86e9dd045\",\"type\":\"DataRange1d\"},{\"attributes\":{\"formatter\":{\"id\":\"a2ee6a27-7ea4-45f7-b55a-8ed799c65c87\",\"type\":\"BasicTickFormatter\"},\"plot\":{\"id\":\"e03d54a8-8f18-4c20-9ddd-9d91f3d4b42f\",\"subtype\":\"Figure\",\"type\":\"Plot\"},\"ticker\":{\"id\":\"df38d356-a7d6-4278-8d9e-6717c045abf3\",\"type\":\"BasicTicker\"}},\"id\":\"0f25ccb0-4e32-4a48-99c4-5e2c3c9423cf\",\"type\":\"LinearAxis\"},{\"attributes\":{},\"id\":\"df38d356-a7d6-4278-8d9e-6717c045abf3\",\"type\":\"BasicTicker\"},{\"attributes\":{\"line_alpha\":{\"value\":0.1},\"line_color\":{\"value\":\"#1f77b4\"},\"line_width\":{\"value\":3},\"x\":{\"field\":\"x\"},\"y\":{\"field\":\"y\"}},\"id\":\"6f182f6a-81c0-479e-b352-86b75e049a45\",\"type\":\"Line\"},{\"attributes\":{\"children\":[{\"id\":\"ad933848-f278-4285-9e4d-fd4180dfcc00\",\"type\":\"Row\"},{\"id\":\"7b7247ef-3d1e-4d4f-8e7d-989f82b7964e\",\"type\":\"Row\"}]},\"id\":\"d3cc1172-c266-4955-842d-20d242ef9e88\",\"type\":\"Column\"},{\"attributes\":{},\"id\":\"5978eebb-3a18-47a1-8452-481843d19a4b\",\"type\":\"BasicTicker\"},{\"attributes\":{\"plot\":{\"id\":\"dbd63c03-e6eb-4035-8c0e-16aada5456cd\",\"subtype\":\"Figure\",\"type\":\"Plot\"}},\"id\":\"504ec138-ff77-408d-8b23-b958f7bff2c7\",\"type\":\"SaveTool\"},{\"attributes\":{\"plot\":{\"id\":\"e03d54a8-8f18-4c20-9ddd-9d91f3d4b42f\",\"subtype\":\"Figure\",\"type\":\"Plot\"}},\"id\":\"b99df8f9-8e6d-4e27-b8b6-f39592189f81\",\"type\":\"PanTool\"},{\"attributes\":{},\"id\":\"a2ee6a27-7ea4-45f7-b55a-8ed799c65c87\",\"type\":\"BasicTickFormatter\"},{\"attributes\":{\"plot\":null,\"text\":\"Second Neuron Output (high weight)\"},\"id\":\"d6ab9b63-1250-46dd-9bb8-32a2fb6d7e6b\",\"type\":\"Title\"},{\"attributes\":{\"plot\":{\"id\":\"e03d54a8-8f18-4c20-9ddd-9d91f3d4b42f\",\"subtype\":\"Figure\",\"type\":\"Plot\"},\"ticker\":{\"id\":\"df38d356-a7d6-4278-8d9e-6717c045abf3\",\"type\":\"BasicTicker\"}},\"id\":\"3275a739-424c-4f4b-9278-521cdfab8338\",\"type\":\"Grid\"},{\"attributes\":{\"dimension\":1,\"plot\":{\"id\":\"e03d54a8-8f18-4c20-9ddd-9d91f3d4b42f\",\"subtype\":\"Figure\",\"type\":\"Plot\"},\"ticker\":{\"id\":\"491f42cb-3ba4-4872-8b2b-eb5319b40501\",\"type\":\"BasicTicker\"}},\"id\":\"f7bd19dc-deb2-4d85-b3cb-0f66502c9cfd\",\"type\":\"Grid\"},{\"attributes\":{\"plot\":{\"id\":\"dbd63c03-e6eb-4035-8c0e-16aada5456cd\",\"subtype\":\"Figure\",\"type\":\"Plot\"}},\"id\":\"edfaca2b-1ec6-4e83-a6af-9f54790ce91f\",\"type\":\"WheelZoomTool\"},{\"attributes\":{\"background_fill_color\":{\"value\":\"#efefef\"},\"below\":[{\"id\":\"abd26f09-287f-42d4-85dd-b911bda5de39\",\"type\":\"LinearAxis\"}],\"left\":[{\"id\":\"81d2068b-cf0a-4ddd-a057-a61f52139207\",\"type\":\"LinearAxis\"}],\"plot_height\":200,\"plot_width\":400,\"renderers\":[{\"id\":\"abd26f09-287f-42d4-85dd-b911bda5de39\",\"type\":\"LinearAxis\"},{\"id\":\"219c76e6-af7f-482b-a226-9e95fc0a1986\",\"type\":\"Grid\"},{\"id\":\"81d2068b-cf0a-4ddd-a057-a61f52139207\",\"type\":\"LinearAxis\"},{\"id\":\"3292773c-ed99-444e-925f-ef411355d96c\",\"type\":\"Grid\"},{\"id\":\"8767adbd-f5c6-4a50-9059-b37a012548df\",\"type\":\"BoxAnnotation\"},{\"id\":\"db59070e-eb8c-48a4-80ba-4bac21855527\",\"type\":\"GlyphRenderer\"}],\"title\":{\"id\":\"d6ab9b63-1250-46dd-9bb8-32a2fb6d7e6b\",\"type\":\"Title\"},\"tool_events\":{\"id\":\"523d3103-21f1-4610-8a18-2273edfdade4\",\"type\":\"ToolEvents\"},\"toolbar\":{\"id\":\"6d9f4606-eb8b-4a71-a80f-f5913b480db7\",\"type\":\"Toolbar\"},\"x_range\":{\"id\":\"51d7b087-4696-46ae-ae97-df72e119e3af\",\"type\":\"DataRange1d\"},\"y_range\":{\"id\":\"9c91c744-21da-428a-b427-def48d3cb50d\",\"type\":\"Range1d\"}},\"id\":\"2b9884af-0d90-41bb-a095-32034b96892d\",\"subtype\":\"Figure\",\"type\":\"Plot\"},{\"attributes\":{\"data_source\":{\"id\":\"fbd3563f-f0d1-4e9c-bb81-5b62fb1e8142\",\"type\":\"ColumnDataSource\"},\"glyph\":{\"id\":\"fc9bdb11-d5b2-4833-8c5d-0e0cd018202c\",\"type\":\"Line\"},\"hover_glyph\":null,\"muted_glyph\":null,\"nonselection_glyph\":{\"id\":\"6f182f6a-81c0-479e-b352-86b75e049a45\",\"type\":\"Line\"},\"selection_glyph\":null},\"id\":\"a03939f9-c2dc-4b54-8f5a-56b597ad772e\",\"type\":\"GlyphRenderer\"},{\"attributes\":{\"line_color\":{\"value\":\"#8888cc\"},\"line_width\":{\"value\":3},\"x\":{\"field\":\"x\"},\"y\":{\"field\":\"y\"}},\"id\":\"8de2f98c-b78b-4415-a02e-80af5a04d134\",\"type\":\"Line\"},{\"attributes\":{\"callback\":null,\"column_names\":[\"x\",\"y\"],\"data\":{\"x\":{\"__ndarray__\":\"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\",\"dtype\":\"float64\",\"shape\":[200]},\"y\":{\"__ndarray__\":\"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\",\"dtype\":\"float64\",\"shape\":[200]}}},\"id\":\"fbd3563f-f0d1-4e9c-bb81-5b62fb1e8142\",\"type\":\"ColumnDataSource\"},{\"attributes\":{\"bottom_units\":\"screen\",\"fill_alpha\":{\"value\":0.5},\"fill_color\":{\"value\":\"lightgrey\"},\"left_units\":\"screen\",\"level\":\"overlay\",\"line_alpha\":{\"value\":1.0},\"line_color\":{\"value\":\"black\"},\"line_dash\":[4,4],\"line_width\":{\"value\":2},\"plot\":null,\"render_mode\":\"css\",\"right_units\":\"screen\",\"top_units\":\"screen\"},\"id\":\"0b1fe9fc-50d6-466f-b310-16f80b47e1e4\",\"type\":\"BoxAnnotation\"},{\"attributes\":{},\"id\":\"8481f9e0-c04f-4174-8373-78c2ed1e0e44\",\"type\":\"BasicTicker\"},{\"attributes\":{\"active_drag\":\"auto\",\"active_scroll\":\"auto\",\"active_tap\":\"auto\",\"tools\":[{\"id\":\"6e93e0e2-d868-47c7-8d6c-f3a48b8a7484\",\"type\":\"PanTool\"},{\"id\":\"edfaca2b-1ec6-4e83-a6af-9f54790ce91f\",\"type\":\"WheelZoomTool\"},{\"id\":\"fd46a7d9-26de-473b-82c7-cef411df00c9\",\"type\":\"BoxZoomTool\"},{\"id\":\"504ec138-ff77-408d-8b23-b958f7bff2c7\",\"type\":\"SaveTool\"},{\"id\":\"7cb0b6d0-69b0-42e6-86e9-0df738155260\",\"type\":\"ResetTool\"},{\"id\":\"3a5ce7b8-fdbf-4ea2-b293-2a7ec09f66a9\",\"type\":\"HelpTool\"}]},\"id\":\"ad6c846a-a522-4c8e-9299-9280232299d6\",\"type\":\"Toolbar\"},{\"attributes\":{\"plot\":{\"id\":\"e03d54a8-8f18-4c20-9ddd-9d91f3d4b42f\",\"subtype\":\"Figure\",\"type\":\"Plot\"}},\"id\":\"b8a67f54-0400-4f19-bdb4-70ed0d83ad62\",\"type\":\"SaveTool\"},{\"attributes\":{\"background_fill_color\":{\"value\":\"#efefef\"},\"below\":[{\"id\":\"0f25ccb0-4e32-4a48-99c4-5e2c3c9423cf\",\"type\":\"LinearAxis\"}],\"left\":[{\"id\":\"c947a3aa-7632-4bbd-a59a-40be77c4ab0c\",\"type\":\"LinearAxis\"}],\"plot_height\":300,\"plot_width\":800,\"renderers\":[{\"id\":\"0f25ccb0-4e32-4a48-99c4-5e2c3c9423cf\",\"type\":\"LinearAxis\"},{\"id\":\"3275a739-424c-4f4b-9278-521cdfab8338\",\"type\":\"Grid\"},{\"id\":\"c947a3aa-7632-4bbd-a59a-40be77c4ab0c\",\"type\":\"LinearAxis\"},{\"id\":\"f7bd19dc-deb2-4d85-b3cb-0f66502c9cfd\",\"type\":\"Grid\"},{\"id\":\"0b1fe9fc-50d6-466f-b310-16f80b47e1e4\",\"type\":\"BoxAnnotation\"},{\"id\":\"a03939f9-c2dc-4b54-8f5a-56b597ad772e\",\"type\":\"GlyphRenderer\"}],\"title\":{\"id\":\"7b5d458b-0c42-4e4d-b16d-358b2ab515ce\",\"type\":\"Title\"},\"tool_events\":{\"id\":\"f2428e25-2955-480d-a6d8-d703445bc40a\",\"type\":\"ToolEvents\"},\"toolbar\":{\"id\":\"b4e42b53-6036-4a91-951d-0dddf65bd3eb\",\"type\":\"Toolbar\"},\"x_range\":{\"id\":\"bb1fc16b-3532-430a-a150-7c4d10f4d010\",\"type\":\"DataRange1d\"},\"y_range\":{\"id\":\"27b4cc59-546b-4b92-984c-655fb8fe2b70\",\"type\":\"Range1d\"}},\"id\":\"e03d54a8-8f18-4c20-9ddd-9d91f3d4b42f\",\"subtype\":\"Figure\",\"type\":\"Plot\"},{\"attributes\":{\"plot\":{\"id\":\"e03d54a8-8f18-4c20-9ddd-9d91f3d4b42f\",\"subtype\":\"Figure\",\"type\":\"Plot\"}},\"id\":\"da59b418-8f51-4d05-85f9-d8f640da72ce\",\"type\":\"WheelZoomTool\"},{\"attributes\":{\"plot\":{\"id\":\"dbd63c03-e6eb-4035-8c0e-16aada5456cd\",\"subtype\":\"Figure\",\"type\":\"Plot\"},\"ticker\":{\"id\":\"5978eebb-3a18-47a1-8452-481843d19a4b\",\"type\":\"BasicTicker\"}},\"id\":\"b6ad0d31-0148-4ad3-9a7a-6a378e39852e\",\"type\":\"Grid\"},{\"attributes\":{\"overlay\":{\"id\":\"0b1fe9fc-50d6-466f-b310-16f80b47e1e4\",\"type\":\"BoxAnnotation\"},\"plot\":{\"id\":\"e03d54a8-8f18-4c20-9ddd-9d91f3d4b42f\",\"subtype\":\"Figure\",\"type\":\"Plot\"}},\"id\":\"a77bf976-f296-46e2-9708-70db0dafc861\",\"type\":\"BoxZoomTool\"},{\"attributes\":{\"dimension\":1,\"plot\":{\"id\":\"dbd63c03-e6eb-4035-8c0e-16aada5456cd\",\"subtype\":\"Figure\",\"type\":\"Plot\"},\"ticker\":{\"id\":\"8481f9e0-c04f-4174-8373-78c2ed1e0e44\",\"type\":\"BasicTicker\"}},\"id\":\"483c85b4-854a-40dd-a42d-0c6e8b33f3fc\",\"type\":\"Grid\"},{\"attributes\":{},\"id\":\"8f0ca821-c479-4b8d-be38-3ee0780d4772\",\"type\":\"ToolEvents\"},{\"attributes\":{\"plot\":{\"id\":\"e03d54a8-8f18-4c20-9ddd-9d91f3d4b42f\",\"subtype\":\"Figure\",\"type\":\"Plot\"}},\"id\":\"981444cc-454d-4792-8fc0-144a3fd2d057\",\"type\":\"ResetTool\"},{\"attributes\":{\"data_source\":{\"id\":\"c82ebb6d-423b-45c4-bc7c-3383d351b53a\",\"type\":\"ColumnDataSource\"},\"glyph\":{\"id\":\"8de2f98c-b78b-4415-a02e-80af5a04d134\",\"type\":\"Line\"},\"hover_glyph\":null,\"muted_glyph\":null,\"nonselection_glyph\":{\"id\":\"321d2893-dfef-4640-b678-154af0e5ff0c\",\"type\":\"Line\"},\"selection_glyph\":null},\"id\":\"f75ba510-ac9b-4d40-b9f2-e7a97a57ee0d\",\"type\":\"GlyphRenderer\"},{\"attributes\":{\"background_fill_color\":{\"value\":\"#efefef\"},\"below\":[{\"id\":\"b2b97333-bbfb-4846-84c5-af22d8926d18\",\"type\":\"LinearAxis\"}],\"left\":[{\"id\":\"bb7bb256-a571-4f7f-97f7-eefdee17428b\",\"type\":\"LinearAxis\"}],\"plot_height\":200,\"plot_width\":400,\"renderers\":[{\"id\":\"b2b97333-bbfb-4846-84c5-af22d8926d18\",\"type\":\"LinearAxis\"},{\"id\":\"b6ad0d31-0148-4ad3-9a7a-6a378e39852e\",\"type\":\"Grid\"},{\"id\":\"bb7bb256-a571-4f7f-97f7-eefdee17428b\",\"type\":\"LinearAxis\"},{\"id\":\"483c85b4-854a-40dd-a42d-0c6e8b33f3fc\",\"type\":\"Grid\"},{\"id\":\"b8e5d3e1-1e8d-4ba6-9018-a60cba35f728\",\"type\":\"BoxAnnotation\"},{\"id\":\"f75ba510-ac9b-4d40-b9f2-e7a97a57ee0d\",\"type\":\"GlyphRenderer\"}],\"title\":{\"id\":\"91fe04a9-9b62-4e2e-aae2-23bb9678eee5\",\"type\":\"Title\"},\"tool_events\":{\"id\":\"8f0ca821-c479-4b8d-be38-3ee0780d4772\",\"type\":\"ToolEvents\"},\"toolbar\":{\"id\":\"ad6c846a-a522-4c8e-9299-9280232299d6\",\"type\":\"Toolbar\"},\"x_range\":{\"id\":\"732e4be9-7183-465a-81d6-41a86e9dd045\",\"type\":\"DataRange1d\"},\"y_range\":{\"id\":\"724f3419-9865-4b1c-9afe-ac2772c4dfba\",\"type\":\"Range1d\"}},\"id\":\"dbd63c03-e6eb-4035-8c0e-16aada5456cd\",\"subtype\":\"Figure\",\"type\":\"Plot\"},{\"attributes\":{\"formatter\":{\"id\":\"6033ac3c-4127-4a67-8a48-52c79bf2bcfe\",\"type\":\"BasicTickFormatter\"},\"plot\":{\"id\":\"dbd63c03-e6eb-4035-8c0e-16aada5456cd\",\"subtype\":\"Figure\",\"type\":\"Plot\"},\"ticker\":{\"id\":\"8481f9e0-c04f-4174-8373-78c2ed1e0e44\",\"type\":\"BasicTicker\"}},\"id\":\"bb7bb256-a571-4f7f-97f7-eefdee17428b\",\"type\":\"LinearAxis\"},{\"attributes\":{\"line_alpha\":{\"value\":0.1},\"line_color\":{\"value\":\"#1f77b4\"},\"line_width\":{\"value\":3},\"x\":{\"field\":\"x\"},\"y\":{\"field\":\"y\"}},\"id\":\"321d2893-dfef-4640-b678-154af0e5ff0c\",\"type\":\"Line\"},{\"attributes\":{\"plot\":{\"id\":\"e03d54a8-8f18-4c20-9ddd-9d91f3d4b42f\",\"subtype\":\"Figure\",\"type\":\"Plot\"}},\"id\":\"fd89e46f-90ed-4598-b7a4-8cefc6480b7c\",\"type\":\"HelpTool\"},{\"attributes\":{},\"id\":\"6033ac3c-4127-4a67-8a48-52c79bf2bcfe\",\"type\":\"BasicTickFormatter\"},{\"attributes\":{},\"id\":\"59e2f5ca-8185-4620-b8ae-f4c254778773\",\"type\":\"BasicTickFormatter\"},{\"attributes\":{},\"id\":\"523d3103-21f1-4610-8a18-2273edfdade4\",\"type\":\"ToolEvents\"},{\"attributes\":{\"plot\":null,\"text\":\"First Single Neuron\"},\"id\":\"91fe04a9-9b62-4e2e-aae2-23bb9678eee5\",\"type\":\"Title\"},{\"attributes\":{\"overlay\":{\"id\":\"b8e5d3e1-1e8d-4ba6-9018-a60cba35f728\",\"type\":\"BoxAnnotation\"},\"plot\":{\"id\":\"dbd63c03-e6eb-4035-8c0e-16aada5456cd\",\"subtype\":\"Figure\",\"type\":\"Plot\"}},\"id\":\"fd46a7d9-26de-473b-82c7-cef411df00c9\",\"type\":\"BoxZoomTool\"},{\"attributes\":{\"children\":[{\"id\":\"dbd63c03-e6eb-4035-8c0e-16aada5456cd\",\"subtype\":\"Figure\",\"type\":\"Plot\"},{\"id\":\"2b9884af-0d90-41bb-a095-32034b96892d\",\"subtype\":\"Figure\",\"type\":\"Plot\"}]},\"id\":\"ad933848-f278-4285-9e4d-fd4180dfcc00\",\"type\":\"Row\"},{\"attributes\":{},\"id\":\"728347be-8862-43ad-b6e0-0c9338ce47f1\",\"type\":\"BasicTickFormatter\"},{\"attributes\":{\"children\":[{\"id\":\"e03d54a8-8f18-4c20-9ddd-9d91f3d4b42f\",\"subtype\":\"Figure\",\"type\":\"Plot\"}]},\"id\":\"7b7247ef-3d1e-4d4f-8e7d-989f82b7964e\",\"type\":\"Row\"},{\"attributes\":{\"plot\":{\"id\":\"dbd63c03-e6eb-4035-8c0e-16aada5456cd\",\"subtype\":\"Figure\",\"type\":\"Plot\"}},\"id\":\"7cb0b6d0-69b0-42e6-86e9-0df738155260\",\"type\":\"ResetTool\"},{\"attributes\":{\"line_color\":{\"value\":\"#8888cc\"},\"line_width\":{\"value\":3},\"x\":{\"field\":\"x\"},\"y\":{\"field\":\"y\"}},\"id\":\"fc9bdb11-d5b2-4833-8c5d-0e0cd018202c\",\"type\":\"Line\"},{\"attributes\":{\"line_color\":{\"value\":\"#8888cc\"},\"line_width\":{\"value\":3},\"x\":{\"field\":\"x\"},\"y\":{\"field\":\"y\"}},\"id\":\"03d81a7f-8952-4578-8ef7-5c3b584e300c\",\"type\":\"Line\"},{\"attributes\":{\"plot\":{\"id\":\"dbd63c03-e6eb-4035-8c0e-16aada5456cd\",\"subtype\":\"Figure\",\"type\":\"Plot\"}},\"id\":\"6e93e0e2-d868-47c7-8d6c-f3a48b8a7484\",\"type\":\"PanTool\"},{\"attributes\":{\"plot\":{\"id\":\"dbd63c03-e6eb-4035-8c0e-16aada5456cd\",\"subtype\":\"Figure\",\"type\":\"Plot\"}},\"id\":\"3a5ce7b8-fdbf-4ea2-b293-2a7ec09f66a9\",\"type\":\"HelpTool\"},{\"attributes\":{\"active_drag\":\"auto\",\"active_scroll\":\"auto\",\"active_tap\":\"auto\",\"tools\":[{\"id\":\"20cd859c-bee7-4111-8807-2d0895a6d012\",\"type\":\"PanTool\"},{\"id\":\"0a4a69fd-1f1f-4b69-b51c-cda03b27b35d\",\"type\":\"WheelZoomTool\"},{\"id\":\"e3e8198e-c43c-4020-848f-2db490a28c3d\",\"type\":\"BoxZoomTool\"},{\"id\":\"b27a5044-5073-4eea-a349-f889603f459e\",\"type\":\"SaveTool\"},{\"id\":\"e024f66a-115e-41a1-b97a-5703d6038ce1\",\"type\":\"ResetTool\"},{\"id\":\"765df9e0-1e1d-4853-aea6-b53c5844fab4\",\"type\":\"HelpTool\"}]},\"id\":\"6d9f4606-eb8b-4a71-a80f-f5913b480db7\",\"type\":\"Toolbar\"},{\"attributes\":{\"formatter\":{\"id\":\"59e2f5ca-8185-4620-b8ae-f4c254778773\",\"type\":\"BasicTickFormatter\"},\"plot\":{\"id\":\"e03d54a8-8f18-4c20-9ddd-9d91f3d4b42f\",\"subtype\":\"Figure\",\"type\":\"Plot\"},\"ticker\":{\"id\":\"491f42cb-3ba4-4872-8b2b-eb5319b40501\",\"type\":\"BasicTicker\"}},\"id\":\"c947a3aa-7632-4bbd-a59a-40be77c4ab0c\",\"type\":\"LinearAxis\"},{\"attributes\":{},\"id\":\"491f42cb-3ba4-4872-8b2b-eb5319b40501\",\"type\":\"BasicTicker\"},{\"attributes\":{\"bottom_units\":\"screen\",\"fill_alpha\":{\"value\":0.5},\"fill_color\":{\"value\":\"lightgrey\"},\"left_units\":\"screen\",\"level\":\"overlay\",\"line_alpha\":{\"value\":1.0},\"line_color\":{\"value\":\"black\"},\"line_dash\":[4,4],\"line_width\":{\"value\":2},\"plot\":null,\"render_mode\":\"css\",\"right_units\":\"screen\",\"top_units\":\"screen\"},\"id\":\"b8e5d3e1-1e8d-4ba6-9018-a60cba35f728\",\"type\":\"BoxAnnotation\"}],\"root_ids\":[\"d3cc1172-c266-4955-842d-20d242ef9e88\"]},\"title\":\"Bokeh Application\",\"version\":\"0.12.5\"}};\n",
       "            var render_items = [{\"docid\":\"13959e00-b41f-4881-88f9-e209c2de57d5\",\"elementid\":\"964714a7-4af5-4be1-bfdf-e0e81d50a0ab\",\"modelid\":\"d3cc1172-c266-4955-842d-20d242ef9e88\",\"notebook_comms_target\":\"8de40406-e132-4780-85e0-7b241e2fd419\"}];\n",
       "            \n",
       "            Bokeh.embed.embed_items(docs_json, render_items);\n",
       "          };\n",
       "          if (document.readyState != \"loading\") fn();\n",
       "          else document.addEventListener(\"DOMContentLoaded\", fn);\n",
       "        })();\n",
       "      },\n",
       "      function(Bokeh) {\n",
       "      }\n",
       "    ];\n",
       "  \n",
       "    function run_inline_js() {\n",
       "      \n",
       "      if ((window.Bokeh !== undefined) || (force === true)) {\n",
       "        for (var i = 0; i < inline_js.length; i++) {\n",
       "          inline_js[i](window.Bokeh);\n",
       "        }if (force === true) {\n",
       "          display_loaded();\n",
       "        }} else if (Date.now() < window._bokeh_timeout) {\n",
       "        setTimeout(run_inline_js, 100);\n",
       "      } else if (!window._bokeh_failed_load) {\n",
       "        console.log(\"Bokeh: BokehJS failed to load within specified timeout.\");\n",
       "        window._bokeh_failed_load = true;\n",
       "      } else if (force !== true) {\n",
       "        var cell = $(document.getElementById(\"964714a7-4af5-4be1-bfdf-e0e81d50a0ab\")).parents('.cell').data().cell;\n",
       "        cell.output_area.append_execute_result(NB_LOAD_WARNING)\n",
       "      }\n",
       "  \n",
       "    }\n",
       "  \n",
       "    if (window._bokeh_is_loading === 0) {\n",
       "      console.log(\"Bokeh: BokehJS loaded, going straight to plotting\");\n",
       "      run_inline_js();\n",
       "    } else {\n",
       "      load_libs(js_urls, function() {\n",
       "        console.log(\"Bokeh: BokehJS plotting callback run at\", now());\n",
       "        run_inline_js();\n",
       "      });\n",
       "    }\n",
       "  }(this));\n",
       "</script>"
      ]
     },
     "metadata": {},
     "output_type": "display_data"
    },
    {
     "data": {
      "application/vnd.jupyter.widget-view+json": {
       "model_id": "c0251805e89f416f83e94972d30ce893"
      }
     },
     "metadata": {},
     "output_type": "display_data"
    }
   ],
   "source": [
    "from ipywidgets import interact\n",
    "import numpy as np\n",
    "from bokeh.io import push_notebook, show, output_notebook\n",
    "from bokeh.plotting import figure\n",
    "from bokeh.models import Range1d\n",
    "output_notebook()\n",
    "\n",
    "def sigmoid(x):\n",
    "    return 1. / (1. + np.exp(-x))\n",
    "\n",
    "weight = 50\n",
    "x = np.linspace(-5, 5, 200)\n",
    "y1 = sigmoid(weight*(0+x))\n",
    "y2 = sigmoid(-weight*(0+x))\n",
    "y3 = sigmoid(weight*(0+x) + -weight*(0+x))\n",
    "\n",
    "p1 = figure(title=\"First Single Neuron\", plot_height=200, plot_width=400, y_range=(-.25,1.25),\n",
    "           background_fill_color='#efefef')\n",
    "r1 = p1.line(x, y1, color=\"#8888cc\", line_width=3, alpha=1)\n",
    "\n",
    "p2 = figure(title=\"Second Neuron Output (high weight)\", plot_height=200, plot_width=400, y_range=(-.25,1.25),\n",
    "           background_fill_color='#efefef')\n",
    "r2 = p2.line(x, y2, color=\"#8888cc\", line_width=3, alpha=1)\n",
    "\n",
    "p3 = figure(title=\"Weighted Sum with bias\", plot_height=300, plot_width=800, y_range=(-3.25,3.25),\n",
    "           background_fill_color='#efefef')\n",
    "r3 = p3.line(x, y3, color=\"#8888cc\", line_width=3, alpha=1)\n",
    "\n",
    "def update(s1=0, s2=1, output_weight=1):\n",
    "    first_neuron = sigmoid(weight*(-s1+x))\n",
    "    second_neuron = sigmoid(-weight*(-s2+x))\n",
    "    output_neuron = output_weight*first_neuron + output_weight*second_neuron\n",
    "    if output_weight >= 0:\n",
    "        bias = min(output_weight*first_neuron + output_weight*second_neuron)\n",
    "    else:\n",
    "        bias = max(output_weight*first_neuron + output_weight*second_neuron)\n",
    "    output_neuron = output_neuron - bias\n",
    "    r1.data_source.data['y'] = first_neuron\n",
    "    r2.data_source.data['y'] = second_neuron\n",
    "    r3.data_source.data['y'] = output_neuron\n",
    "    push_notebook()\n",
    "      \n",
    "l = layout([\n",
    "  [p1, p2],\n",
    "  [p3],\n",
    "])\n",
    "   \n",
    "show(l, notebook_handle=True)\n",
    "interact(update, s1=(-5.00,5.00), s2=(-5.00,5.00), output_weight=(-3.00,3.00));"
   ]
  },
  {
   "cell_type": "markdown",
   "metadata": {},
   "source": [
    "The key takeaway is that we can use two neurons to crate a square well of any thickness and height. Take a large number of neuron pairs, we can approximate any function. [Image source](https://en.wikipedia.org/wiki/Integral#/media/File:Integral_approximations.svg)\n",
    "\n",
    "<img src=\"../notebooks/images/Integral_approximations.svg.png\" alt=\"drawing\" width=\"400\"/>"
   ]
  },
  {
   "cell_type": "markdown",
   "metadata": {},
   "source": [
    "A few other points:\n",
    "1. This argument can be extended into more dimensions. Most problems have more than 1 feature!\n",
    "1. So far, we have been working with the input into the final neuron. Of course, we are actually interested in the output of that neuron. We can always apply the inverse of the activation function to the function we are trying to model.\n",
    "1. Just because a neural network CAN approximate any function doesn't mean that it is easy to find the right weights for that approximation."
   ]
  },
  {
   "cell_type": "markdown",
   "metadata": {},
   "source": [
    "## What about multiclass classification?\n",
    "Examples: Identify a fruit from an image, identify handwritten digits (MNIST).\n",
    "\n",
    "What we've done so far has a binary output. We can also have multiple output nodes, each representing a single class. For each observation, which ever output node has the highest probability \"wins\" and we assign that class to the observation.\n",
    "\n",
    "<img src=\"../notebooks/images/multiclass.png\" alt=\"drawing\" width=\"600\"/>"
   ]
  },
  {
   "cell_type": "markdown",
   "metadata": {},
   "source": [
    "## Note about model complexity\n",
    "\n",
    "Remember that each line is a weight that has to be learned. Models can very quickly get complex. We can easily have thousands of input features, multiple hidden layers with hundreds of nodes, leading to millions of values that have to be learned. "
   ]
  },
  {
   "cell_type": "markdown",
   "metadata": {},
   "source": [
    "Next time:\n",
    "1. How do we actually train a neural network?\n",
    "1. What is an activation function and how do I choose one?\n",
    "1. What is a loss function and which do I choose?\n"
   ]
  },
  {
   "cell_type": "markdown",
   "metadata": {},
   "source": [
    "# Your first model\n",
    "## MNIST\n",
    "MNIST is a database of handwritten digist (0-9). We'll use these images as inputs to your first model. Let's take a look at the data."
   ]
  },
  {
   "cell_type": "code",
   "execution_count": 35,
   "metadata": {
    "collapsed": true
   },
   "outputs": [],
   "source": [
    "from keras.datasets import mnist\n",
    "from keras.utils import to_categorical\n",
    "from keras import models\n",
    "from keras import layers"
   ]
  },
  {
   "cell_type": "code",
   "execution_count": 36,
   "metadata": {},
   "outputs": [
    {
     "data": {
      "image/png": "[encoded data removed]",
      "text/plain": [
       "<matplotlib.figure.Figure at 0x122adc780>"
      ]
     },
     "metadata": {},
     "output_type": "display_data"
    }
   ],
   "source": [
    "(train_images, train_labels), (test_images, test_labels) = mnist.load_data()\n",
    "plt.imshow(train_images[1245], cmap='Greys');"
   ]
  },
  {
   "cell_type": "code",
   "execution_count": 37,
   "metadata": {},
   "outputs": [
    {
     "data": {
      "text/plain": [
       "(28, 28)"
      ]
     },
     "execution_count": 37,
     "metadata": {},
     "output_type": "execute_result"
    }
   ],
   "source": [
    "train_images[1245].shape"
   ]
  },
  {
   "cell_type": "code",
   "execution_count": 1,
   "metadata": {
    "scrolled": true
   },
   "outputs": [
    {
     "ename": "NameError",
     "evalue": "name 'train_images' is not defined",
     "output_type": "error",
     "traceback": [
      "\u001b[0;31m---------------------------------------------------------------------------\u001b[0m",
      "\u001b[0;31mNameError\u001b[0m                                 Traceback (most recent call last)",
      "\u001b[0;32m<ipython-input-1-2a88c9a6a2f5>\u001b[0m in \u001b[0;36m<module>\u001b[0;34m()\u001b[0m\n\u001b[0;32m----> 1\u001b[0;31m \u001b[0mtrain_images\u001b[0m\u001b[0;34m[\u001b[0m\u001b[0;36m1245\u001b[0m\u001b[0;34m]\u001b[0m\u001b[0;34m;\u001b[0m\u001b[0;34m\u001b[0m\u001b[0m\n\u001b[0m",
      "\u001b[0;31mNameError\u001b[0m: name 'train_images' is not defined"
     ]
    }
   ],
   "source": [
    "train_images[1245];"
   ]
  },
  {
   "cell_type": "markdown",
   "metadata": {
    "collapsed": true
   },
   "source": [
    "## Prepare the data\n",
    "We need to do two things:\n",
    "1. \"Unroll\" the data into a linear array\n",
    "2. Scale the data into the range (0,1)."
   ]
  },
  {
   "cell_type": "code",
   "execution_count": 39,
   "metadata": {
    "collapsed": true
   },
   "outputs": [],
   "source": [
    "train_images = train_images.reshape((60000, 28 * 28)).astype('float32') / 255\n",
    "# train_images = train_images.astype('float32') / 255\n",
    "test_images = test_images.reshape((10000, 28 * 28))\n",
    "test_images = test_images.astype('float32') / 255"
   ]
  },
  {
   "cell_type": "markdown",
   "metadata": {},
   "source": [
    "We also need to turn the labels into a form that Keras expects, which is a binary matrix."
   ]
  },
  {
   "cell_type": "code",
   "execution_count": 40,
   "metadata": {},
   "outputs": [
    {
     "data": {
      "text/plain": [
       "5"
      ]
     },
     "execution_count": 40,
     "metadata": {},
     "output_type": "execute_result"
    }
   ],
   "source": [
    "train_labels[0]"
   ]
  },
  {
   "cell_type": "code",
   "execution_count": 41,
   "metadata": {
    "collapsed": true
   },
   "outputs": [],
   "source": [
    "train_labels = to_categorical(train_labels)\n",
    "test_labels = to_categorical(test_labels)"
   ]
  },
  {
   "cell_type": "code",
   "execution_count": 42,
   "metadata": {},
   "outputs": [
    {
     "data": {
      "text/plain": [
       "array([0., 0., 0., 0., 0., 1., 0., 0., 0., 0.], dtype=float32)"
      ]
     },
     "execution_count": 42,
     "metadata": {},
     "output_type": "execute_result"
    }
   ],
   "source": [
    "train_labels[0]"
   ]
  },
  {
   "cell_type": "markdown",
   "metadata": {
    "collapsed": true
   },
   "source": [
    "## Create a Sequential Model and add layers\n",
    "The [Keras Sequential model](https://keras.io/getting-started/sequential-model-guide/) allows us to define linear layers of a network. It takes care of building the connections between each layer. For the first layer we have to tell it how many inputs to expect. The final layer should have the same number neurons as we have classes.\n",
    "\n",
    "We are using the[Keras Dense function](https://keras.io/layers/core/) to create exactly the type of layer that we discussed above. The dense refers to the fact that each neuron in the layer is connected to all others in the layer before and after.\n",
    "\n",
    "A dense layer is also called a **fully-connected layer**."
   ]
  },
  {
   "cell_type": "code",
   "execution_count": 78,
   "metadata": {},
   "outputs": [
    {
     "name": "stdout",
     "output_type": "stream",
     "text": [
      "_________________________________________________________________\n",
      "Layer (type)                 Output Shape              Param #   \n",
      "=================================================================\n",
      "dense_27 (Dense)             (None, 512)               401920    \n",
      "_________________________________________________________________\n",
      "dense_28 (Dense)             (None, 10)                5130      \n",
      "=================================================================\n",
      "Total params: 407,050\n",
      "Trainable params: 407,050\n",
      "Non-trainable params: 0\n",
      "_________________________________________________________________\n"
     ]
    }
   ],
   "source": [
    "network = models.Sequential()\n",
    "network.add(layers.Dense(512, activation='softmax', input_shape=(784,)))\n",
    "network.add(layers.Dense(10, activation='softmax'))\n",
    "network.summary()"
   ]
  },
  {
   "cell_type": "markdown",
   "metadata": {},
   "source": [
    "This step sets training parameters for our network. "
   ]
  },
  {
   "cell_type": "code",
   "execution_count": 75,
   "metadata": {
    "collapsed": true
   },
   "outputs": [],
   "source": [
    "network.compile(optimizer='rmsprop', loss='categorical_crossentropy', metrics=['accuracy'])"
   ]
  },
  {
   "cell_type": "markdown",
   "metadata": {},
   "source": [
    "And this trains the model. An **epoch** is one full iteration through the data. The **batch size** is the number of observations that go into each training step."
   ]
  },
  {
   "cell_type": "code",
   "execution_count": 76,
   "metadata": {},
   "outputs": [
    {
     "name": "stdout",
     "output_type": "stream",
     "text": [
      "Epoch 1/5\n",
      "60000/60000 [==============================] - 2s 37us/step - loss: 9.4692 - acc: 0.2642\n",
      "Epoch 2/5\n",
      "60000/60000 [==============================] - 2s 33us/step - loss: 10.8843 - acc: 0.3041\n",
      "Epoch 3/5\n",
      "60000/60000 [==============================] - 2s 32us/step - loss: 10.9445 - acc: 0.3024\n",
      "Epoch 4/5\n",
      "60000/60000 [==============================] - 2s 38us/step - loss: 10.9445 - acc: 0.3024\n",
      "Epoch 5/5\n",
      "60000/60000 [==============================] - 2s 38us/step - loss: 10.9445 - acc: 0.3024\n"
     ]
    }
   ],
   "source": [
    "network.fit(train_images, train_labels, epochs=5, batch_size=256);"
   ]
  },
  {
   "cell_type": "markdown",
   "metadata": {},
   "source": [
    "Of course, we are more interested in test performance."
   ]
  },
  {
   "cell_type": "code",
   "execution_count": 73,
   "metadata": {},
   "outputs": [
    {
     "name": "stdout",
     "output_type": "stream",
     "text": [
      "10000/10000 [==============================] - 1s 55us/step\n",
      "test_acc: 0.098\n"
     ]
    }
   ],
   "source": [
    "test_loss, test_acc = network.evaluate(test_images, test_labels)\n",
    "print('test_acc:', test_acc)"
   ]
  },
  {
   "cell_type": "markdown",
   "metadata": {
    "collapsed": true
   },
   "source": [
    "You now have all the pieces you need to create and train a neural network.\n",
    "\n",
    "Try to create the most accurate MNIST classifier you can. Here are some things to try.\n",
    "* Add hidden layers.\n",
    "* Change the number of neurons in the hidden layers.\n",
    "* Change the batch size or number of epochs.\n",
    "* Change activation functions - try `tanh` and `relu`."
   ]
  },
  {
   "cell_type": "markdown",
   "metadata": {},
   "source": [
    "# More resources:\n",
    "* [Deep Learning Book](https://www.deeplearningbook.org/) for a in-depth look at DL.\n",
    "* [Deep Learning with Python](https://www.amazon.com/Deep-Learning-Python-Francois-Chollet/dp/1617294438) is a good resource for Keras, not as much for deep learning.\n",
    "* http://neuralnetworksanddeeplearning.com is the source for the universal approximation section.\n",
    "* [Neural Network Zoo](http://www.asimovinstitute.org/neural-network-zoo/#) gives you a hint of the variety of layers and architectures out there.\n",
    "* [Coursera ML Class](https://www.coursera.org/learn/machine-learning) The week 5 lectures are all about neural networks.\n",
    "* [https://www.fast.ai/](https://www.fast.ai/) also has deep learning classes.\n"
   ]
  },
  {
   "cell_type": "code",
   "execution_count": null,
   "metadata": {
    "collapsed": true
   },
   "outputs": [],
   "source": []
  }
 ],
 "metadata": {
  "kernelspec": {
   "display_name": "Python 3",
   "language": "python",
   "name": "python3"
  },
  "language_info": {
   "codemirror_mode": {
    "name": "ipython",
    "version": 3
   },
   "file_extension": ".py",
   "mimetype": "text/x-python",
   "name": "python",
   "nbconvert_exporter": "python",
   "pygments_lexer": "ipython3",
   "version": "3.6.6"
  }
 },
 "nbformat": 4,
 "nbformat_minor": 2
}
