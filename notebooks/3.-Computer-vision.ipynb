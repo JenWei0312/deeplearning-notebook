{
 "cells": [
  {
   "cell_type": "markdown",
   "metadata": {},
   "source": [
    "![test](../notebooks/images/header2.png)"
   ]
  },
  {
   "cell_type": "markdown",
   "metadata": {},
   "source": [
    "# Workshop goals\n",
    "* MNIST dense model review\n",
    "* Generating new data\n",
    "* Convolutional networks\n",
    "* Using pretrained models"
   ]
  },
  {
   "cell_type": "markdown",
   "metadata": {},
   "source": [
    "# How to get and open this file:\n",
    "1. `git pull`\n",
    "1. `jupyter notebook`"
   ]
  },
  {
   "cell_type": "markdown",
   "metadata": {},
   "source": [
    "# Let's revisit the MNIST example\n",
    "\n",
    "Here's the dense network we used with two layers, the first using relu activation."
   ]
  },
  {
   "cell_type": "code",
   "execution_count": 33,
   "metadata": {},
   "outputs": [],
   "source": [
    "from keras.datasets import mnist\n",
    "from keras.utils import to_categorical\n",
    "from keras import models\n",
    "from keras import layers\n",
    "import matplotlib.pyplot as plt"
   ]
  },
  {
   "cell_type": "code",
   "execution_count": 34,
   "metadata": {},
   "outputs": [],
   "source": [
    "(train_images, train_labels), (test_images, test_labels) = mnist.load_data()\n",
    "\n",
    "orig_image = train_images[0]\n",
    "\n",
    "train_images = train_images.reshape((60000, 28 * 28)).astype('float32') / 255\n",
    "test_images = test_images.reshape((10000, 28 * 28)).astype('float32') / 255\n",
    "\n",
    "reshaped_image = train_images[0]\n",
    "\n",
    "train_labels = to_categorical(train_labels)\n",
    "test_labels = to_categorical(test_labels)"
   ]
  },
  {
   "cell_type": "code",
   "execution_count": 15,
   "metadata": {},
   "outputs": [
    {
     "name": "stdout",
     "output_type": "stream",
     "text": [
      "_________________________________________________________________\n",
      "Layer (type)                 Output Shape              Param #   \n",
      "=================================================================\n",
      "dense_11 (Dense)             (None, 512)               401920    \n",
      "_________________________________________________________________\n",
      "dropout_1 (Dropout)          (None, 512)               0         \n",
      "_________________________________________________________________\n",
      "dense_12 (Dense)             (None, 10)                5130      \n",
      "=================================================================\n",
      "Total params: 407,050\n",
      "Trainable params: 407,050\n",
      "Non-trainable params: 0\n",
      "_________________________________________________________________\n"
     ]
    }
   ],
   "source": [
    "network = models.Sequential()\n",
    "network.add(layers.Dense(512, activation='relu', input_shape=(784,)))\n",
    "network.add(layers.Dropout(0.5))\n",
    "network.add(layers.Dense(10, activation='softmax'))\n",
    "network.summary()"
   ]
  },
  {
   "cell_type": "code",
   "execution_count": 16,
   "metadata": {},
   "outputs": [
    {
     "name": "stdout",
     "output_type": "stream",
     "text": [
      "Epoch 1/20\n",
      "60000/60000 [==============================] - 3s 51us/step - loss: 0.3641 - acc: 0.8941\n",
      "Epoch 2/20\n",
      "60000/60000 [==============================] - 3s 48us/step - loss: 0.1725 - acc: 0.9496\n",
      "Epoch 3/20\n",
      "60000/60000 [==============================] - 3s 50us/step - loss: 0.1287 - acc: 0.9628\n",
      "Epoch 4/20\n",
      "60000/60000 [==============================] - 3s 46us/step - loss: 0.1049 - acc: 0.9689\n",
      "Epoch 5/20\n",
      "60000/60000 [==============================] - 3s 46us/step - loss: 0.0900 - acc: 0.9732\n",
      "Epoch 6/20\n",
      "60000/60000 [==============================] - 3s 45us/step - loss: 0.0789 - acc: 0.9765\n",
      "Epoch 7/20\n",
      "60000/60000 [==============================] - 3s 51us/step - loss: 0.0716 - acc: 0.9780\n",
      "Epoch 8/20\n",
      "60000/60000 [==============================] - 3s 48us/step - loss: 0.0659 - acc: 0.9799\n",
      "Epoch 9/20\n",
      "60000/60000 [==============================] - 3s 49us/step - loss: 0.0592 - acc: 0.9821\n",
      "Epoch 10/20\n",
      "60000/60000 [==============================] - 3s 50us/step - loss: 0.0564 - acc: 0.9827\n",
      "Epoch 11/20\n",
      "60000/60000 [==============================] - 3s 49us/step - loss: 0.0517 - acc: 0.9841\n",
      "Epoch 12/20\n",
      "60000/60000 [==============================] - 3s 46us/step - loss: 0.0494 - acc: 0.9848\n",
      "Epoch 13/20\n",
      "60000/60000 [==============================] - 3s 48us/step - loss: 0.0434 - acc: 0.9863\n",
      "Epoch 14/20\n",
      "60000/60000 [==============================] - 3s 48us/step - loss: 0.0425 - acc: 0.9866\n",
      "Epoch 15/20\n",
      "60000/60000 [==============================] - 3s 52us/step - loss: 0.0397 - acc: 0.9873\n",
      "Epoch 16/20\n",
      "60000/60000 [==============================] - 3s 52us/step - loss: 0.0371 - acc: 0.9886\n",
      "Epoch 17/20\n",
      "60000/60000 [==============================] - 3s 49us/step - loss: 0.0352 - acc: 0.9892\n",
      "Epoch 18/20\n",
      "60000/60000 [==============================] - 3s 48us/step - loss: 0.0341 - acc: 0.9892\n",
      "Epoch 19/20\n",
      "60000/60000 [==============================] - 3s 48us/step - loss: 0.0328 - acc: 0.9894\n",
      "Epoch 20/20\n",
      "60000/60000 [==============================] - 3s 52us/step - loss: 0.0316 - acc: 0.9897\n",
      "10000/10000 [==============================] - 1s 52us/step\n",
      "test_acc: 0.9841\n"
     ]
    }
   ],
   "source": [
    "network.compile(optimizer='rmsprop', loss='categorical_crossentropy', metrics=['accuracy'])\n",
    "network.fit(train_images, train_labels, epochs=20, batch_size=256);\n",
    "test_loss, test_acc = network.evaluate(test_images, test_labels)\n",
    "print('test_acc:', test_acc)"
   ]
  },
  {
   "cell_type": "markdown",
   "metadata": {},
   "source": [
    "Running this model for 10 epochs gives a training accuracy of 99.6% and a testing accuracy of 97.9% percent. Further training (up to about 30 epochs) gives a training accuracy of 100% and a testing accuracy of 98%. Even after 10 epochs it's overfit. This is also a fairly easy problem - clean data, small images, greyscale, only 10 classes, etc. We'll need a new technique to get better results.\n",
    "\n",
    "The images were originally 28 by 28 pixel images. As part of our data preparation for a dense network, we flatten or reshaped them into linear arrays of 784 numbers. However, this is throwing away important information - pixel clumps clearly have information that we are losing by reshaping."
   ]
  },
  {
   "cell_type": "code",
   "execution_count": 31,
   "metadata": {},
   "outputs": [
    {
     "name": "stdout",
     "output_type": "stream",
     "text": [
      "Shape of original images: (28, 28)\n",
      "Reshaped to linear array: (784,)\n"
     ]
    }
   ],
   "source": [
    "print(f\"Shape of original images: {orig_image.shape}\")\n",
    "print(f\"Reshaped to linear array: {reshaped_image.shape}\")"
   ]
  },
  {
   "cell_type": "code",
   "execution_count": 62,
   "metadata": {},
   "outputs": [
    {
     "data": {
      "image/png": "[encoded data removed]",
      "text/plain": [
       "<Figure size 432x288 with 1 Axes>"
      ]
     },
     "metadata": {
      "needs_background": "light"
     },
     "output_type": "display_data"
    }
   ],
   "source": [
    "plt.imshow(orig_image, cmap='Greys');"
   ]
  },
  {
   "cell_type": "markdown",
   "metadata": {},
   "source": [
    "Let's examine the top bar of the 5 in both formats to compare: "
   ]
  },
  {
   "cell_type": "code",
   "execution_count": 70,
   "metadata": {
    "scrolled": false
   },
   "outputs": [
    {
     "data": {
      "image/png": "[encoded data removed]",
      "text/plain": [
       "<Figure size 432x288 with 1 Axes>"
      ]
     },
     "metadata": {
      "needs_background": "light"
     },
     "output_type": "display_data"
    }
   ],
   "source": [
    "plt.imshow(orig_image[5:8,:], cmap='Greys');"
   ]
  },
  {
   "cell_type": "code",
   "execution_count": 80,
   "metadata": {},
   "outputs": [
    {
     "name": "stdout",
     "output_type": "stream",
     "text": [
      "[0.         0.         0.         0.         0.         0.\n",
      " 0.         0.         0.         0.         0.         0.\n",
      " 0.01176471 0.07058824 0.07058824 0.07058824 0.49411765 0.53333336\n",
      " 0.6862745  0.10196079 0.6509804  1.         0.96862745 0.49803922\n",
      " 0.         0.         0.         0.         0.         0.\n",
      " 0.         0.         0.         0.         0.         0.\n",
      " 0.11764706 0.14117648 0.36862746 0.6039216  0.6666667  0.99215686\n",
      " 0.99215686 0.99215686 0.99215686 0.99215686 0.88235295 0.6745098\n",
      " 0.99215686 0.9490196  0.7647059  0.2509804  0.         0.\n",
      " 0.         0.         0.         0.         0.         0.\n",
      " 0.         0.         0.         0.19215687 0.93333334 0.99215686\n",
      " 0.99215686 0.99215686 0.99215686 0.99215686 0.99215686 0.99215686\n",
      " 0.99215686 0.9843137  0.3647059  0.32156864 0.32156864 0.21960784\n",
      " 0.15294118 0.         0.         0.         0.         0.\n",
      " 0.        ]\n"
     ]
    }
   ],
   "source": [
    "print(reshaped_image[140:225])"
   ]
  },
  {
   "cell_type": "markdown",
   "metadata": {},
   "source": [
    "The dense model that we trained above is able to use individual pixels and patterns of pixels but is not able to detect translations and rotations. If the network sees a slightly different `5` than is expects, it probably won't correctly classify it."
   ]
  },
  {
   "cell_type": "code",
   "execution_count": 232,
   "metadata": {},
   "outputs": [
    {
     "data": {
      "image/png": "[encoded data removed]",
      "text/plain": [
       "<Figure size 576x576 with 2 Axes>"
      ]
     },
     "metadata": {
      "needs_background": "light"
     },
     "output_type": "display_data"
    }
   ],
   "source": [
    "trans_image = np.zeros([28,28])\n",
    "trans_image[:24, 4:] = orig_image[4:, :24]\n",
    "\n",
    "f = plt.figure(figsize=(8, 8))\n",
    "ax1 = f.add_subplot(121)\n",
    "ax1.imshow(orig_image, cmap='Greys')\n",
    "ax1.set_title(\"Original\")\n",
    "\n",
    "ax2 = f.add_subplot(122)\n",
    "ax2.imshow(trans_image, cmap='Greys')\n",
    "ax2.set_title(\"Smoothed\");"
   ]
  },
  {
   "cell_type": "markdown",
   "metadata": {},
   "source": [
    "One possible approach is to programmatically generate different versions of the current images. The Keras image library has lots of utilities for working with images."
   ]
  },
  {
   "cell_type": "code",
   "execution_count": 237,
   "metadata": {},
   "outputs": [
    {
     "data": {
      "image/png": "[encoded data removed]",
      "text/plain": [
       "<Figure size 432x288 with 1 Axes>"
      ]
     },
     "metadata": {
      "needs_background": "light"
     },
     "output_type": "display_data"
    }
   ],
   "source": [
    "from keras.preprocessing import image\n",
    "\n",
    "data_generator = image.ImageDataGenerator(rotation_range=40, width_shift_range=0.2, height_shift_range=0.2)\n",
    "orig_image_rank_4 = orig_imag.reshape((1,28,28,1))\n",
    "batch = data_generator.flow(orig_image_rank_4, batch_size=1)\n",
    "plt.imshow(batch[0].reshape(28,28), cmap='Greys')\n",
    "plt.title(\"Random translation and rotation\");"
   ]
  },
  {
   "cell_type": "markdown",
   "metadata": {},
   "source": [
    "This can help in some situations but since we aren't really generating new training data, just preturbations of the current training data, we will probably still have overfitting."
   ]
  },
  {
   "cell_type": "markdown",
   "metadata": {},
   "source": [
    "# Convolution Neural Networks\n",
    "\n",
    "### The convolution operation in image processing\n",
    "\n",
    "The main idea behind convolution is that we explicitly encode pixels patterns by moving **kernels** aka **filter windows** over the image, creating output features. What do I mean by kernels?\n",
    "\n",
    "A kernel is just a matrix of the same shape as our input data - in this case a 2d matrix. It's usually much smaller in size than the data, 3 x 3 is a common size.\n",
    "\n",
    "The output image is calculated by sliding the kernel over the input data and calculating the sum of the surrounding pixels, weighted by the corresponding values of the kernal. This is not a standard matrix multiplication.\n",
    "\n",
    "Example calculation of the entry in first row,first column output:\n",
    "\n",
    "$$\n",
    "\\begin{pmatrix}\n",
    "2 & 3 & 4 & 2 & 4 \\\\\n",
    "0 & 1 & 4 & 1 & 1 \\\\\n",
    "1 & 1 & 0 & 7 & 2 \\\\\n",
    "3 & 2 & 3 & 1 & 1 \\\\\n",
    "1 & 2 & 0 & 2 & 8\n",
    "\\end{pmatrix}\n",
    "*\n",
    "\\begin{pmatrix}\n",
    "-1 & -1 & -1 \\\\\n",
    "-1 & 8 & -1 \\\\\n",
    "-1 & -1 & -1\n",
    "\\end{pmatrix}\n",
    "=>\n",
    "\\begin{pmatrix}\n",
    " -7 & . & . \\\\\n",
    " . & . & . \\\\\n",
    " . & . & .\n",
    "\\end{pmatrix}\n",
    "$$\n",
    "\n",
    "where the actual calculation is $-2 + -3 + -4 + 8 + -4 + -1 + -1 = -7$. The dots in the output matrix are filled in by sliding kernel to a different part of the input matrix. \n",
    "\n",
    "Note that the output matrix is smaller than the input matrix. This is because the kernal can only fit in the input matrix in only 9 unique places. This is called a **valid padding**. \n",
    "\n",
    "This is not the only choice - we can also have a **same padding**, where we add the input matrix with enough zeros on all sides so that output matrix is the same size as the input matrix:\n",
    "\n",
    "$$\n",
    "\\begin{pmatrix}\n",
    "0 & 0 & 0 & 0 & 0 & 0 & 0 \\\\ \n",
    "0 & 2 & 3 & 4 & 2 & 4 & 0 \\\\\n",
    "0 & 0 & 1 & 4 & 1 & 1 & 0 \\\\\n",
    "0 & 1 & 1 & 0 & 7 & 2 & 0 \\\\\n",
    "0 & 3 & 2 & 3 & 1 & 1 & 0 \\\\\n",
    "0 & 1 & 2 & 0 & 2 & 8 & 0 \\\\\n",
    "0 & 0 & 0 & 0 & 0 & 0 & 0  \n",
    "\\end{pmatrix}\n",
    "*\n",
    "\\begin{pmatrix}\n",
    "-1 & -1 & -1 \\\\\n",
    "-1 & 8 & -1 \\\\\n",
    "-1 & -1 & -1\n",
    "\\end{pmatrix}\n",
    "=>\n",
    "\\begin{pmatrix}\n",
    " . & . & . & . & . \\\\\n",
    " . & -7 & . & . & . \\\\\n",
    " . & . & . & . & . \\\\\n",
    " . & . & . & . & . \\\\\n",
    " . & . & . & . & .\n",
    "\\end{pmatrix}\n",
    "$$\n",
    "\n",
    "There's yet another choice we can make that affect the size of the output matrix: **strides**. We may choose to move the kernel over more than one entry, i.e. skip entries. \n",
    "\n",
    "For Keras Conv2D layers the default values are `strides=1, padding='valid'`\n",
    "\n",
    "Image processing gives us several important filters to reduce image noise, find edges, etc ... In the interest of time, we'll skip are more in-depth explanation of these work but there are many good explanations a Google search away. Instead, I'll just demonstrate some of the more popular kernels:"
   ]
  },
  {
   "cell_type": "code",
   "execution_count": 239,
   "metadata": {},
   "outputs": [
    {
     "data": {
      "image/png": "[encoded data removed]",
      "text/plain": [
       "<Figure size 576x576 with 4 Axes>"
      ]
     },
     "metadata": {
      "needs_background": "light"
     },
     "output_type": "display_data"
    }
   ],
   "source": [
    "from scipy.signal import convolve2d\n",
    "import numpy as np\n",
    "\n",
    "# Calculate the convolutions\n",
    "\n",
    "smoothing_kernel = np.array([[1,1,1],[1,1,1],[1,1,1]])\n",
    "smooth = convolve2d(orig_imag, smoothing_kernel)\n",
    "\n",
    "horizontal_edge = np.array([[-1,-1,-1],[2,2,2],[-1,-1,-1]])\n",
    "h_edge = convolve2d(orig_imag, horizontal_edge, 'same')\n",
    "\n",
    "vertical_edge = np.array([[-1,2,-1],[-1,2,-1],[-1,2,-1]])\n",
    "h_edge = convolve2d(orig_imag, vertical_edge, 'same')\n",
    "\n",
    "edge_detector = np.array([[-1,-1,-1],[-1,8,-1],[-1,-1,-1]])\n",
    "edge = convolve2d(orig_imag, edge_detector, 'same')\n",
    "\n",
    "# Plot the resulting images\n",
    "\n",
    "f = plt.figure(figsize=(8, 8))\n",
    "ax1 = f.add_subplot(221)\n",
    "ax1.imshow(orig_image, cmap='Greys')\n",
    "ax1.set_title(\"Original\")\n",
    "\n",
    "ax2 = f.add_subplot(222)\n",
    "ax2.imshow(smooth, cmap='Greys')\n",
    "ax2.set_title(\"Smoothed\")\n",
    "\n",
    "ax3 = f.add_subplot(223)\n",
    "ax3.imshow(h_edge, cmap='Greys')\n",
    "ax3.set_title(\"Horizontal Edges\")\n",
    "\n",
    "ax4 = f.add_subplot(224)\n",
    "ax4.imshow(edges, cmap='Greys')\n",
    "ax4.set_title(\"All Edges\");"
   ]
  },
  {
   "cell_type": "markdown",
   "metadata": {},
   "source": [
    "One nice property of these image filter kernels is that they are able to detect features no matter where they are in the image. Look at the edge detectors above - all the horizontal edges are highlighted. Hopefully, this will help us build translationally invariant image classifiers!\n",
    "\n",
    "There is a drawback of course. These kernels are predefined. We want to learn good kernals from our data. We can do this with convolution layers in Keras.\n",
    "\n",
    "Let's build a model and then we'll explain the steps in more detail."
   ]
  },
  {
   "cell_type": "code",
   "execution_count": 276,
   "metadata": {},
   "outputs": [
    {
     "name": "stdout",
     "output_type": "stream",
     "text": [
      "_________________________________________________________________\n",
      "Layer (type)                 Output Shape              Param #   \n",
      "=================================================================\n",
      "conv2d_32 (Conv2D)           (None, 26, 26, 32)        320       \n",
      "_________________________________________________________________\n",
      "max_pooling2d_21 (MaxPooling (None, 13, 13, 32)        0         \n",
      "_________________________________________________________________\n",
      "conv2d_33 (Conv2D)           (None, 11, 11, 64)        18496     \n",
      "_________________________________________________________________\n",
      "max_pooling2d_22 (MaxPooling (None, 5, 5, 64)          0         \n",
      "_________________________________________________________________\n",
      "conv2d_34 (Conv2D)           (None, 3, 3, 64)          36928     \n",
      "_________________________________________________________________\n",
      "flatten_10 (Flatten)         (None, 576)               0         \n",
      "_________________________________________________________________\n",
      "dense_29 (Dense)             (None, 64)                36928     \n",
      "_________________________________________________________________\n",
      "dense_30 (Dense)             (None, 10)                650       \n",
      "=================================================================\n",
      "Total params: 93,322\n",
      "Trainable params: 93,322\n",
      "Non-trainable params: 0\n",
      "_________________________________________________________________\n"
     ]
    }
   ],
   "source": [
    "from keras.datasets import mnist\n",
    "from keras.utils import to_categorical\n",
    "from keras import models\n",
    "from keras import layers\n",
    "\n",
    "network = models.Sequential()\n",
    "network.add(layers.Conv2D(32, (3,3), activation='relu', input_shape=(28,28,1)))\n",
    "network.add(layers.MaxPooling2D((2,2)))\n",
    "network.add(layers.Conv2D(64, (3,3), activation='relu')) \n",
    "network.add(layers.MaxPooling2D((2,2)))\n",
    "network.add(layers.Conv2D(64, (3,3), activation='relu'))\n",
    "network.add(layers.Flatten())\n",
    "network.add(layers.Dense(64, activation='relu', input_shape=(784,)))\n",
    "# network.add(layers.Dropout(0.5))\n",
    "network.add(layers.Dense(10, activation='softmax'))\n",
    "network.summary()"
   ]
  },
  {
   "cell_type": "code",
   "execution_count": 277,
   "metadata": {},
   "outputs": [],
   "source": [
    "(train_images, train_labels), (test_images, test_labels) = mnist.load_data()\n",
    "train_images = train_images.reshape((60000, 28, 28, 1)).astype('float32') / 255\n",
    "test_images = test_images.reshape((10000, 28, 28, 1)).astype('float32') / 255\n",
    "train_labels = to_categorical(train_labels)\n",
    "test_labels = to_categorical(test_labels)"
   ]
  },
  {
   "cell_type": "code",
   "execution_count": 288,
   "metadata": {},
   "outputs": [
    {
     "name": "stdout",
     "output_type": "stream",
     "text": [
      "Train on 60000 samples, validate on 10000 samples\n",
      "Epoch 1/10\n",
      "60000/60000 [==============================] - 47s 785us/step - loss: 0.0073 - acc: 0.9978 - val_loss: 0.0428 - val_acc: 0.9925\n",
      "Epoch 2/10\n",
      "60000/60000 [==============================] - 46s 760us/step - loss: 0.0060 - acc: 0.9982 - val_loss: 0.0505 - val_acc: 0.9911\n",
      "Epoch 3/10\n",
      "60000/60000 [==============================] - 48s 793us/step - loss: 0.0059 - acc: 0.9982 - val_loss: 0.0536 - val_acc: 0.9916\n",
      "Epoch 4/10\n",
      "60000/60000 [==============================] - 45s 755us/step - loss: 0.0048 - acc: 0.9987 - val_loss: 0.0564 - val_acc: 0.9910\n",
      "Epoch 5/10\n",
      "60000/60000 [==============================] - 46s 768us/step - loss: 0.0048 - acc: 0.9986 - val_loss: 0.0496 - val_acc: 0.9931\n",
      "Epoch 6/10\n",
      "60000/60000 [==============================] - 46s 762us/step - loss: 0.0047 - acc: 0.9989 - val_loss: 0.0499 - val_acc: 0.9923\n",
      "Epoch 7/10\n",
      "60000/60000 [==============================] - 45s 742us/step - loss: 0.0036 - acc: 0.9991 - val_loss: 0.0655 - val_acc: 0.9913\n",
      "Epoch 8/10\n",
      "60000/60000 [==============================] - 39s 646us/step - loss: 0.0031 - acc: 0.9992 - val_loss: 0.0698 - val_acc: 0.9908\n",
      "Epoch 9/10\n",
      "60000/60000 [==============================] - 45s 749us/step - loss: 0.0039 - acc: 0.9990 - val_loss: 0.0651 - val_acc: 0.9916\n",
      "Epoch 10/10\n",
      "60000/60000 [==============================] - 48s 794us/step - loss: 0.0033 - acc: 0.9992 - val_loss: 0.0608 - val_acc: 0.9919\n",
      "10000/10000 [==============================] - 3s 253us/step\n",
      "test_acc: 0.9919\n"
     ]
    }
   ],
   "source": [
    "network.compile(optimizer='rmsprop', loss='categorical_crossentropy', metrics=['accuracy'])\n",
    "history = network.fit(train_images,\n",
    "                      train_labels,\n",
    "                      epochs=10,\n",
    "                      batch_size=64,\n",
    "                      validation_data=(test_images, test_labels));\n",
    "test_loss, test_acc = network.evaluate(test_images, test_labels)\n",
    "print('test_acc:', test_acc)"
   ]
  },
  {
   "cell_type": "markdown",
   "metadata": {},
   "source": [
    "### Aside - GPU training\n",
    "\n",
    "You'll notice this is much slower - many more calculations are happening! If we make the networks even larger, or train on larger images or have more of them, we'll quickly get to a point where training time is the greatest barrier to training better models. Ultimately, you'll want to use a GPU to train models.\n",
    "\n",
    "You'll have to install some GPU specific mathematical calculation libraries and a GPU specific version of tensorflow. Look for online resources for this.\n",
    "\n",
    "Sources for GPU training:\n",
    "1. Use a local NVIDIA GPU\n",
    "1. Online using Google Colab - hosted Jupyter notebooks with free GPUs\n",
    "1. Online using AWS\n",
    "1. Other cloud providers - IBM, paperspace - A quick glance at prices show online providers are 25 cents/hour and up.\n",
    "1. Don't train models from scratch!\n",
    "\n",
    "### Let's look at the results!"
   ]
  },
  {
   "cell_type": "code",
   "execution_count": 287,
   "metadata": {},
   "outputs": [
    {
     "data": {
      "image/png": "[encoded data removed]",
      "text/plain": [
       "<Figure size 432x288 with 1 Axes>"
      ]
     },
     "metadata": {
      "needs_background": "light"
     },
     "output_type": "display_data"
    }
   ],
   "source": [
    "acc = history.history['acc']\n",
    "loss = history.history['loss']\n",
    "val_acc = history.history['val_acc']\n",
    "val_loss = history.history['val_loss']\n",
    "\n",
    "epochs = range(1, len(acc) + 1)\n",
    "plt.plot(epochs, acc, 'bo', label='Training accuracy')\n",
    "plt.plot(epochs, val_acc, 'b', label='Validation accuracy')\n",
    "plt.legend()\n",
    "plt.show()"
   ]
  },
  {
   "cell_type": "markdown",
   "metadata": {},
   "source": [
    "### Let's look at the results!\n",
    "\n",
    "Original MLP validation error = 1.6%, CNN validation error = 0.8%. So we've cut the error in half with our first attempt at building at CNN.\n",
    "\n",
    "The first convolutional layer and it's summary looks like this:\n",
    "\n",
    "`Conv2D(32, (3,3), activation='relu', input_shape=(28,28,1))`\n",
    "\n",
    "```\n",
    "_______________________________________________________________\n",
    "Layer (type)                 Output Shape              Param #   \n",
    "=================================================================\n",
    "conv2d_32 (Conv2D)           (None, 26, 26, 32)        320       \n",
    "```\n",
    "\n",
    "Since it's the first layer we have to tell it that we are using 28 x 28 images with only 1 color. RGB color images would be (28, 28, 3).\n",
    "\n",
    "We are specifying that we want to create 32 kernels, each 3 x 3. Each kernel leads to an output neuron with the relu activation. Thus we are learning 10 values for each kernel - 9 for the kernel itself and one weight, 320 parameters in total.\n",
    "\n",
    "What about the output shape? The first entry is the batch size, which is variable, and so is listed as None. The other numbers represent the 26 x 26 images (shruken by the convolution) and the outputs of the 32 convolutions.\n",
    "\n",
    "Notice we really expanded the amount of data. Each input image has turned into 32 slightly smaller outputs images after the first layer. This has the effect of increasing training time significantly. Max pooling is a way to decrease the number of parameters. In this case we simply tell the layer to split each image up into 2 by 2 blocks and output the max value.\n",
    "\n",
    "MaxPooling also helps the network detect slightly translated features and to generalize.\n",
    "\n",
    "Next we have two more convolution layers, separated by a max pooling layer. \n",
    "\n",
    "Why do we have multiple convolution layers? It's because each successive layer can learn more and more complex shapes. The first layer is looking for 3 x 3 patterns in the images - curves or straight lines. The second layer looks for combinations of the first layer features - like a circle. The final layer will look for even more complocated features. Convolutional layers can learn spacial heirarchies.\n",
    "\n",
    "Let's examine that by putting a single image into our trained network and examining the filter outputs of each convolution layer. - code adapted from *Deep Learning with Python* by Francois Chollet."
   ]
  },
  {
   "cell_type": "code",
   "execution_count": 385,
   "metadata": {},
   "outputs": [],
   "source": [
    "layer_outputs = [network.layers[i].output for i in [0,2,4]]\n",
    "activation_model = models.Model(inputs=network.input, outputs=layer_outputs)\n",
    "activations = activation_model.predict(test_images[image_number].reshape((1,28,28,1)))\n",
    "layer_names = [ network.layers[i].name for i in [0,2,4]]"
   ]
  },
  {
   "cell_type": "markdown",
   "metadata": {},
   "source": [
    "Since the kernel initialization is random, your feature maps won't look exactly like mine!"
   ]
  },
  {
   "cell_type": "code",
   "execution_count": 395,
   "metadata": {},
   "outputs": [
    {
     "data": {
      "image/png": "[encoded data removed]",
      "text/plain": [
       "<Figure size 432x288 with 2 Axes>"
      ]
     },
     "metadata": {
      "needs_background": "light"
     },
     "output_type": "display_data"
    }
   ],
   "source": [
    "image_number = 151\n",
    "plt.subplot(1,2,1)\n",
    "plt.imshow(test_images[image_number].reshape((28,28)), cmap='Greys');\n",
    "plt.title(\"Original\")\n",
    "plt.subplot(1,2,2)\n",
    "activations = activation_model.predict(test_images[image_number].reshape((1,28,28,1)))\n",
    "plt.imshow(activations[0][0, :, :, 5])\n",
    "plt.title(\"Activation\")\n",
    "plt.show();"
   ]
  },
  {
   "cell_type": "code",
   "execution_count": 396,
   "metadata": {},
   "outputs": [
    {
     "name": "stderr",
     "output_type": "stream",
     "text": [
      "/Users/tjbay/anaconda2/envs/deeplearning/lib/python3.6/site-packages/ipykernel_launcher.py:23: RuntimeWarning: invalid value encountered in true_divide\n"
     ]
    },
    {
     "data": {
      "image/png": "[encoded data removed]",
      "text/plain": [
       "<Figure size 1152x144 with 1 Axes>"
      ]
     },
     "metadata": {
      "needs_background": "light"
     },
     "output_type": "display_data"
    },
    {
     "data": {
      "image/png": "[encoded data removed]",
      "text/plain": [
       "<Figure size 1152x288 with 1 Axes>"
      ]
     },
     "metadata": {
      "needs_background": "light"
     },
     "output_type": "display_data"
    },
    {
     "data": {
      "image/png": "[encoded data removed]",
      "text/plain": [
       "<Figure size 1152x288 with 1 Axes>"
      ]
     },
     "metadata": {
      "needs_background": "light"
     },
     "output_type": "display_data"
    }
   ],
   "source": [
    "images_per_row = 16\n",
    "\n",
    "# Now let's display our feature maps\n",
    "for layer_name, layer_activation in zip(layer_names, activations):\n",
    "    # This is the number of features in the feature map\n",
    "    n_features = layer_activation.shape[-1]\n",
    "\n",
    "    # The feature map has shape (1, size, size, n_features)\n",
    "    size = layer_activation.shape[1]\n",
    "\n",
    "    # We will tile the activation channels in this matrix\n",
    "    n_cols = n_features // images_per_row\n",
    "    display_grid = np.zeros((size * n_cols, images_per_row * size))\n",
    "\n",
    "    # We'll tile each filter into this big horizontal grid\n",
    "    for col in range(n_cols):\n",
    "        for row in range(images_per_row):\n",
    "            channel_image = layer_activation[0,\n",
    "                                             :, :,\n",
    "                                             col * images_per_row + row]\n",
    "            # Post-process the feature to make it visually palatable\n",
    "            channel_image -= channel_image.mean()\n",
    "            channel_image /= channel_image.std()\n",
    "            channel_image *= 64\n",
    "            channel_image += 128\n",
    "            channel_image = np.clip(channel_image, 0, 255).astype('uint8')\n",
    "            display_grid[col * size : (col + 1) * size,\n",
    "                         row * size : (row + 1) * size] = channel_image\n",
    "\n",
    "    # Display the grid\n",
    "    scale = 1. / size\n",
    "    plt.figure(figsize=(scale * display_grid.shape[1],\n",
    "                        scale * display_grid.shape[0]))\n",
    "    plt.title(layer_name)\n",
    "    plt.grid(False)\n",
    "    plt.imshow(display_grid, aspect='auto', cmap='viridis')\n",
    "    \n",
    "plt.show()"
   ]
  },
  {
   "cell_type": "markdown",
   "metadata": {},
   "source": [
    "The first conv layer tends to be visually pretty close to the original image and looks similar to the edge detector filters.\n",
    "\n",
    "The second layer is more abstract but some still show hints of image. By looking at a bunch of different images we might be able to identify filters that detect certain shapes, e.g. circles, horizontal or vertical lines.\n",
    "\n",
    "By the third layer it's almost impossible to tell what the original number was. The data has been turned into a set of abstract features. We also see more filters as blank, indicating that they weren't activated at all by this input image. \n",
    "\n",
    "Since the last convolution layer outputs a bunch of abstract features, we need to add a small dense network on top to finish the actual classification.\n",
    "\n",
    "The **Flatten** layer simply unrolls the 2D image data into the linear array that the Dense layers expect, much like the **reshape** function we've used a few times."
   ]
  },
  {
   "cell_type": "markdown",
   "metadata": {},
   "source": [
    "### Pretrained models\n",
    "\n",
    "We saw that this small network (60k training images, 93k parameters) takes minutes to train on my laptop. World class "
   ]
  },
  {
   "cell_type": "code",
   "execution_count": null,
   "metadata": {},
   "outputs": [],
   "source": []
  }
 ],
 "metadata": {
  "kernelspec": {
   "display_name": "Python 3",
   "language": "python",
   "name": "python3"
  },
  "language_info": {
   "codemirror_mode": {
    "name": "ipython",
    "version": 3
   },
   "file_extension": ".py",
   "mimetype": "text/x-python",
   "name": "python",
   "nbconvert_exporter": "python",
   "pygments_lexer": "ipython3",
   "version": "3.6.2"
  }
 },
 "nbformat": 4,
 "nbformat_minor": 2
}
